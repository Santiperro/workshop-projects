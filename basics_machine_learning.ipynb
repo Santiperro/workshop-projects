{
 "cells": [
  {
   "cell_type": "code",
   "execution_count": 3,
   "metadata": {},
   "outputs": [
    {
     "name": "stdout",
     "output_type": "stream",
     "text": [
      "True\n"
     ]
    }
   ],
   "source": [
    "import math\n",
    "\n",
    "\n",
    "x, y, x1, y1, x2, y2, r, s = map(float, input().split())\n",
    "\n",
    "is_inside_rectangle = x1 <= x <= x2 and y1 <= y <= y2\n",
    "\n",
    "distance_to_origin = math.sqrt(x**2 + y**2)\n",
    "is_inside_circle = distance_to_origin <= r\n",
    "\n",
    "# Определение принадлежности точки объединению или пересечению\n",
    "if s == 0:\n",
    "    is_in_final_region = is_inside_rectangle or is_inside_circle\n",
    "else:\n",
    "    is_in_final_region = is_inside_rectangle and is_inside_circle\n",
    "\n",
    "# Вывод результата\n",
    "print(is_in_final_region)"
   ]
  },
  {
   "cell_type": "code",
   "execution_count": 11,
   "metadata": {},
   "outputs": [
    {
     "name": "stdout",
     "output_type": "stream",
     "text": [
      "0\n",
      "1\n",
      "2\n",
      "3\n"
     ]
    }
   ],
   "source": [
    "data = list(reversed(input()))\n",
    "count = 0\n",
    "\n",
    "for i in range(0, len(data) - 1):\n",
    "    if data[i] == 'a':\n",
    "        print(i)\n",
    "        count += 1\n"
   ]
  }
 ],
 "metadata": {
  "kernelspec": {
   "display_name": ".venv",
   "language": "python",
   "name": "python3"
  },
  "language_info": {
   "codemirror_mode": {
    "name": "ipython",
    "version": 3
   },
   "file_extension": ".py",
   "mimetype": "text/x-python",
   "name": "python",
   "nbconvert_exporter": "python",
   "pygments_lexer": "ipython3",
   "version": "3.10.7"
  },
  "orig_nbformat": 4
 },
 "nbformat": 4,
 "nbformat_minor": 2
}

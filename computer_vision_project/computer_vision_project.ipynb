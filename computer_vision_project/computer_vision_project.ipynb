{
 "cells": [
  {
   "cell_type": "code",
   "execution_count": 1,
   "metadata": {},
   "outputs": [
    {
     "name": "stderr",
     "output_type": "stream",
     "text": [
      "2023-12-13 23:58:02.592681: E external/local_xla/xla/stream_executor/cuda/cuda_dnn.cc:9261] Unable to register cuDNN factory: Attempting to register factory for plugin cuDNN when one has already been registered\n",
      "2023-12-13 23:58:02.592719: E external/local_xla/xla/stream_executor/cuda/cuda_fft.cc:607] Unable to register cuFFT factory: Attempting to register factory for plugin cuFFT when one has already been registered\n",
      "2023-12-13 23:58:02.593290: E external/local_xla/xla/stream_executor/cuda/cuda_blas.cc:1515] Unable to register cuBLAS factory: Attempting to register factory for plugin cuBLAS when one has already been registered\n",
      "2023-12-13 23:58:02.596895: I tensorflow/core/platform/cpu_feature_guard.cc:182] This TensorFlow binary is optimized to use available CPU instructions in performance-critical operations.\n",
      "To enable the following instructions: AVX2 FMA, in other operations, rebuild TensorFlow with the appropriate compiler flags.\n",
      "2023-12-13 23:58:03.076892: W tensorflow/compiler/tf2tensorrt/utils/py_utils.cc:38] TF-TRT Warning: Could not find TensorRT\n",
      "100%|██████████| 1000/1000 [00:06<00:00, 156.23it/s]\n",
      "100%|██████████| 1000/1000 [00:15<00:00, 65.51it/s]\n"
     ]
    },
    {
     "data": {
      "text/plain": [
       "(1000, 1000)"
      ]
     },
     "execution_count": 1,
     "metadata": {},
     "output_type": "execute_result"
    }
   ],
   "source": [
    "# Бинарная кросс-энтропия и сигмоида\n",
    "import os\n",
    "import numpy as np\n",
    "import cv2\n",
    "from tqdm import tqdm\n",
    "import tensorflow as tf\n",
    "from sklearn.model_selection import train_test_split\n",
    "from tensorflow.keras.optimizers import Adam\n",
    "from tensorflow.keras.losses import BinaryCrossentropy\n",
    "from tensorflow.keras.metrics import Accuracy\n",
    "from tensorflow.keras.models import Sequential\n",
    "from tensorflow.keras.layers import Conv2D, MaxPooling2D, Flatten, Dense, Dropout\n",
    "\n",
    "\n",
    "DROWSY_IMG_PATH = \"data/Driver Drowsiness Dataset (DDD)/Drowsy/\"\n",
    "NON_DROWSY_IMG_PATH = \"data/Driver Drowsiness Dataset (DDD)/Non Drowsy/\"\n",
    "img_size = (150, 150)\n",
    "max_images = 1000\n",
    "\n",
    "\n",
    "def read_imgs(path, max_images=None):\n",
    "    image_files = [file for file in os.listdir(path) if os.path.isfile(os.path.join(path, file))]\n",
    "    images = []\n",
    "    if max_images:\n",
    "        image_files = image_files[:max_images]\n",
    "    for img_name in tqdm(image_files):\n",
    "        img_path = os.path.join(path, img_name)\n",
    "        img = cv2.imread(img_path)\n",
    "        img = cv2.resize(img, img_size)\n",
    "        img = img / 255.0\n",
    "        if img is not None:\n",
    "            images.append(img)\n",
    "    return images\n",
    "\n",
    "\n",
    "# Чтение изображений\n",
    "drowsy_files = np.array(read_imgs(DROWSY_IMG_PATH, max_images=max_images))\n",
    "non_drowsy_files = np.array(read_imgs(NON_DROWSY_IMG_PATH, max_images=max_images))\n",
    "\n",
    "len(drowsy_files), len(non_drowsy_files)"
   ]
  },
  {
   "cell_type": "code",
   "execution_count": 2,
   "metadata": {},
   "outputs": [
    {
     "name": "stderr",
     "output_type": "stream",
     "text": [
      "2023-12-13 23:59:25.568233: I external/local_xla/xla/stream_executor/cuda/cuda_executor.cc:887] could not open file to read NUMA node: /sys/bus/pci/devices/0000:01:00.0/numa_node\n",
      "Your kernel may have been built without NUMA support.\n",
      "2023-12-13 23:59:25.589443: I external/local_xla/xla/stream_executor/cuda/cuda_executor.cc:887] could not open file to read NUMA node: /sys/bus/pci/devices/0000:01:00.0/numa_node\n",
      "Your kernel may have been built without NUMA support.\n",
      "2023-12-13 23:59:25.589486: I external/local_xla/xla/stream_executor/cuda/cuda_executor.cc:887] could not open file to read NUMA node: /sys/bus/pci/devices/0000:01:00.0/numa_node\n",
      "Your kernel may have been built without NUMA support.\n",
      "2023-12-13 23:59:25.590891: I external/local_xla/xla/stream_executor/cuda/cuda_executor.cc:887] could not open file to read NUMA node: /sys/bus/pci/devices/0000:01:00.0/numa_node\n",
      "Your kernel may have been built without NUMA support.\n",
      "2023-12-13 23:59:25.590926: I external/local_xla/xla/stream_executor/cuda/cuda_executor.cc:887] could not open file to read NUMA node: /sys/bus/pci/devices/0000:01:00.0/numa_node\n",
      "Your kernel may have been built without NUMA support.\n",
      "2023-12-13 23:59:25.590940: I external/local_xla/xla/stream_executor/cuda/cuda_executor.cc:887] could not open file to read NUMA node: /sys/bus/pci/devices/0000:01:00.0/numa_node\n",
      "Your kernel may have been built without NUMA support.\n",
      "2023-12-13 23:59:25.914886: I external/local_xla/xla/stream_executor/cuda/cuda_executor.cc:887] could not open file to read NUMA node: /sys/bus/pci/devices/0000:01:00.0/numa_node\n",
      "Your kernel may have been built without NUMA support.\n",
      "2023-12-13 23:59:25.914931: I external/local_xla/xla/stream_executor/cuda/cuda_executor.cc:887] could not open file to read NUMA node: /sys/bus/pci/devices/0000:01:00.0/numa_node\n",
      "Your kernel may have been built without NUMA support.\n",
      "2023-12-13 23:59:25.914936: I tensorflow/core/common_runtime/gpu/gpu_device.cc:2022] Could not identify NUMA node of platform GPU id 0, defaulting to 0.  Your kernel may not have been built with NUMA support.\n",
      "2023-12-13 23:59:25.914956: I external/local_xla/xla/stream_executor/cuda/cuda_executor.cc:887] could not open file to read NUMA node: /sys/bus/pci/devices/0000:01:00.0/numa_node\n",
      "Your kernel may have been built without NUMA support.\n",
      "2023-12-13 23:59:25.914968: I tensorflow/core/common_runtime/gpu/gpu_device.cc:1929] Created device /job:localhost/replica:0/task:0/device:GPU:0 with 5578 MB memory:  -> device: 0, name: NVIDIA GeForce RTX 3070, pci bus id: 0000:01:00.0, compute capability: 8.6\n"
     ]
    }
   ],
   "source": [
    "# Разделение изображений на обучающую, валидационную и тестовую выборки\n",
    "train_drowsy, val_test_drowsy  = train_test_split(drowsy_files, test_size=0.2, random_state=42)\n",
    "val_drowsy, test_drowsy = train_test_split(val_test_drowsy , test_size=0.5, random_state=42)\n",
    "\n",
    "train_non_drowsy, val_test_non_drowsy  = train_test_split(non_drowsy_files, test_size=0.2, random_state=42)\n",
    "val_non_drowsy, test_non_drowsy = train_test_split(val_test_non_drowsy , test_size=0.5, random_state=42)\n",
    "\n",
    "del drowsy_files\n",
    "del non_drowsy_files\n",
    "\n",
    "# Архитектура модели\n",
    "model = Sequential([\n",
    "    Conv2D(32, (3, 3), activation='relu', input_shape=(img_size[0], img_size[1], 3)),\n",
    "    MaxPooling2D((2, 2)),\n",
    "    Conv2D(64, (3, 3), activation='relu'),\n",
    "    MaxPooling2D((2, 2)),\n",
    "    Conv2D(128, (3, 3), activation='relu'),\n",
    "    MaxPooling2D((2, 2)),\n",
    "    Flatten(),\n",
    "    Dense(128, activation='relu'),\n",
    "    Dropout(0.5),\n",
    "    Dense(1, activation='sigmoid')\n",
    "])\n",
    "\n",
    "# Компиляция модели\n",
    "model.compile(optimizer=Adam(), loss=BinaryCrossentropy(), metrics=[Accuracy()])"
   ]
  },
  {
   "cell_type": "code",
   "execution_count": 7,
   "metadata": {},
   "outputs": [
    {
     "name": "stdout",
     "output_type": "stream",
     "text": [
      "Epoch 1/10\n",
      " 5/50 [==>...........................] - ETA: 0s - loss: 3.1314e-07 - accuracy: 0.9812"
     ]
    },
    {
     "name": "stderr",
     "output_type": "stream",
     "text": [
      "2023-12-14 00:15:57.411683: W external/local_tsl/tsl/framework/cpu_allocator_impl.cc:83] Allocation of 432000000 exceeds 10% of free system memory.\n",
      "2023-12-14 00:15:57.598581: W external/local_tsl/tsl/framework/cpu_allocator_impl.cc:83] Allocation of 432000000 exceeds 10% of free system memory.\n"
     ]
    },
    {
     "name": "stdout",
     "output_type": "stream",
     "text": [
      "50/50 [==============================] - 1s 16ms/step - loss: 3.1314e-08 - accuracy: 0.9919 - val_loss: 2.6992e-20 - val_accuracy: 1.0000\n",
      "Epoch 2/10\n",
      "50/50 [==============================] - 1s 14ms/step - loss: 3.0148e-13 - accuracy: 0.9969 - val_loss: 2.6993e-20 - val_accuracy: 1.0000\n",
      "Epoch 3/10\n",
      "50/50 [==============================] - 1s 14ms/step - loss: 5.4674e-18 - accuracy: 0.9950 - val_loss: 2.6992e-20 - val_accuracy: 1.0000\n",
      "Epoch 4/10\n",
      "50/50 [==============================] - 1s 14ms/step - loss: 5.1503e-14 - accuracy: 0.9956 - val_loss: 2.6992e-20 - val_accuracy: 1.0000\n",
      "Epoch 5/10\n",
      "50/50 [==============================] - 1s 14ms/step - loss: 0.0367 - accuracy: 0.7431 - val_loss: 4.2678e-07 - val_accuracy: 0.9850\n",
      "Epoch 6/10\n",
      "50/50 [==============================] - 1s 14ms/step - loss: 2.2187e-06 - accuracy: 0.9550 - val_loss: 1.3814e-10 - val_accuracy: 1.0000\n",
      "Epoch 7/10\n",
      "50/50 [==============================] - 1s 14ms/step - loss: 1.3590e-07 - accuracy: 0.9944 - val_loss: 3.0689e-11 - val_accuracy: 1.0000\n",
      "Epoch 8/10\n",
      "50/50 [==============================] - 1s 14ms/step - loss: 0.0394 - accuracy: 0.9250 - val_loss: 1.4516e-21 - val_accuracy: 1.0000\n",
      "Epoch 9/10\n",
      "50/50 [==============================] - 1s 14ms/step - loss: 2.5612e-18 - accuracy: 0.9987 - val_loss: 1.4783e-26 - val_accuracy: 1.0000\n",
      "Epoch 10/10\n",
      "50/50 [==============================] - 1s 14ms/step - loss: 1.4197e-11 - accuracy: 0.9981 - val_loss: 1.3780e-26 - val_accuracy: 1.0000\n",
      "7/7 [==============================] - 0s 6ms/step - loss: 3.4792e-24 - accuracy: 1.0000\n",
      "Test Loss: 3.4792264518361276e-24\n",
      "Test Accuracy: 1.0\n"
     ]
    }
   ],
   "source": [
    "# Гиперпараметры\n",
    "batch_size = 32\n",
    "epochs = 10\n",
    "\n",
    "# Обучение модели\n",
    "model.fit(np.concatenate((train_drowsy, train_non_drowsy)), \n",
    "          np.array([1] * len(train_drowsy) + [0] * len(train_non_drowsy)),\n",
    "          batch_size=batch_size, epochs=epochs,\n",
    "          validation_data=(np.concatenate((val_drowsy, val_non_drowsy)),\n",
    "                           np.array([1] * len(val_drowsy) + [0] * len(val_non_drowsy))))\n",
    "\n",
    "# Оценка модели на тестовых данных\n",
    "test_loss, test_accuracy = model.evaluate(np.concatenate((test_drowsy, test_non_drowsy)), \n",
    "                                          np.array([1] * len(test_drowsy) + [0] * len(test_non_drowsy)))\n",
    "print(f\"Test Loss: {test_loss}\")\n",
    "print(f\"Test Accuracy: {test_accuracy}\")"
   ]
  },
  {
   "cell_type": "code",
   "execution_count": 4,
   "metadata": {},
   "outputs": [
    {
     "name": "stdout",
     "output_type": "stream",
     "text": [
      "7/7 [==============================] - 0s 5ms/step\n"
     ]
    }
   ],
   "source": [
    "# Получение предсказаний модели для тестовых данных\n",
    "predictions = model.predict(np.concatenate((test_drowsy, test_non_drowsy)))"
   ]
  },
  {
   "cell_type": "code",
   "execution_count": 9,
   "metadata": {},
   "outputs": [
    {
     "data": {
      "image/png": "[encoded data removed]",
      "text/plain": [
       "<Figure size 600x600 with 2 Axes>"
      ]
     },
     "metadata": {},
     "output_type": "display_data"
    }
   ],
   "source": [
    "from sklearn.metrics import confusion_matrix\n",
    "import matplotlib.pyplot as plt\n",
    "import seaborn as sns\n",
    "\n",
    "\n",
    "# Преобразование вероятностей в метки классов (0 или 1) с использованием порога 0.5\n",
    "predicted_classes = (predictions > 0.5).astype(int)\n",
    "\n",
    "# Создание матрицы ошибок\n",
    "labels = np.array([1] * len(test_drowsy) + [0] * len(test_non_drowsy))\n",
    "cm = confusion_matrix(labels, predicted_classes)\n",
    "\n",
    "plt.figure(figsize=(6, 6))  # Установка размера графика\n",
    "\n",
    "plt.imshow(cm, interpolation='nearest', cmap='Blues')\n",
    "\n",
    "class_names = [\"Non drowsy\", \"Drowsy\"]\n",
    "\n",
    "tick_marks = range(len(class_names))\n",
    "plt.xticks(tick_marks, class_names)\n",
    "plt.yticks(tick_marks, class_names)\n",
    "\n",
    "plt.xlabel('Predicted labels')\n",
    "plt.ylabel('True labels')\n",
    "\n",
    "for i in range(len(class_names)):\n",
    "    for j in range(len(class_names)):\n",
    "        plt.text(j, i, str(cm[i][j]), horizontalalignment='center', verticalalignment='center')\n",
    "        \n",
    "plt.colorbar()\n",
    "plt.show()"
   ]
  }
 ],
 "metadata": {
  "kernelspec": {
   "display_name": ".venv",
   "language": "python",
   "name": "python3"
  },
  "language_info": {
   "codemirror_mode": {
    "name": "ipython",
    "version": 3
   },
   "file_extension": ".py",
   "mimetype": "text/x-python",
   "name": "python",
   "nbconvert_exporter": "python",
   "pygments_lexer": "ipython3",
   "version": "3.11.5"
  }
 },
 "nbformat": 4,
 "nbformat_minor": 2
}

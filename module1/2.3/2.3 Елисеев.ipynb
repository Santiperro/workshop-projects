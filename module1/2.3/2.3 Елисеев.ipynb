{
  "cells": [
    {
      "cell_type": "markdown",
      "metadata": {
        "id": "tFwZqvyxw991"
      },
      "source": [
        "# Елисеев Е.В. \n",
        "# Решение Задачи 1 \"Изучение критической температуры сверхпроводников\""
      ]
    },
    {
      "cell_type": "markdown",
      "metadata": {
        "id": "dbQNpQi2uKpj"
      },
      "source": [
        "https://www.kaggle.com/competitions/critical-temperature-of-superconductors"
      ]
    },
    {
      "cell_type": "markdown",
      "metadata": {
        "id": "zrPvLvvpzFcw"
      },
      "source": [
        "## Считывание данных"
      ]
    },
    {
      "cell_type": "code",
      "execution_count": 1,
      "metadata": {
        "colab": {
          "base_uri": "https://localhost:8080/"
        },
        "id": "_-oRk0f2bSFc",
        "outputId": "cd713816-8fad-4d02-c00f-bc4e416283df"
      },
      "outputs": [
        {
          "name": "stdout",
          "output_type": "stream",
          "text": [
            "Train dataset shape: (17010, 82)\n",
            "Train_formula dataset shape: (17010, 88)\n",
            "Test dataset shape: (4253, 81)\n",
            "Test_formula dataset shape: (4253, 87)\n"
          ]
        }
      ],
      "source": [
        "import pandas as pd\n",
        "\n",
        "# Считываем тренировочные данные\n",
        "train = pd.read_csv(\"data/train.csv.zip\")\n",
        "formula_train = pd.read_csv(\"data/formula_train.csv.zip\")\n",
        "\n",
        "# Считываем тестовые данные\n",
        "test = pd.read_csv(\"data/test.csv.zip\")\n",
        "formula_test = pd.read_csv(\"data/formula_test.csv.zip\")\n",
        "\n",
        "print(f\"Train dataset shape: {train.shape}\")\n",
        "print(f\"Train_formula dataset shape: {formula_train.shape}\")\n",
        "print(f\"Test dataset shape: {test.shape}\")\n",
        "print(f\"Test_formula dataset shape: {formula_test.shape}\")\n"
      ]
    },
    {
      "cell_type": "markdown",
      "metadata": {},
      "source": [
        "## Исследование данных"
      ]
    },
    {
      "cell_type": "code",
      "execution_count": 2,
      "metadata": {
        "colab": {
          "base_uri": "https://localhost:8080/",
          "height": 300
        },
        "id": "Fti3rQEJy405",
        "outputId": "d9167399-eb6a-4152-aa15-d1030e8a3a91"
      },
      "outputs": [
        {
          "data": {
            "text/html": [
              "<div>\n",
              "<style scoped>\n",
              "    .dataframe tbody tr th:only-of-type {\n",
              "        vertical-align: middle;\n",
              "    }\n",
              "\n",
              "    .dataframe tbody tr th {\n",
              "        vertical-align: top;\n",
              "    }\n",
              "\n",
              "    .dataframe thead th {\n",
              "        text-align: right;\n",
              "    }\n",
              "</style>\n",
              "<table border=\"1\" class=\"dataframe\">\n",
              "  <thead>\n",
              "    <tr style=\"text-align: right;\">\n",
              "      <th></th>\n",
              "      <th>number_of_elements</th>\n",
              "      <th>mean_atomic_mass</th>\n",
              "      <th>wtd_mean_atomic_mass</th>\n",
              "      <th>gmean_atomic_mass</th>\n",
              "      <th>wtd_gmean_atomic_mass</th>\n",
              "      <th>entropy_atomic_mass</th>\n",
              "      <th>wtd_entropy_atomic_mass</th>\n",
              "      <th>range_atomic_mass</th>\n",
              "      <th>wtd_range_atomic_mass</th>\n",
              "      <th>std_atomic_mass</th>\n",
              "      <th>...</th>\n",
              "      <th>wtd_mean_Valence</th>\n",
              "      <th>gmean_Valence</th>\n",
              "      <th>wtd_gmean_Valence</th>\n",
              "      <th>entropy_Valence</th>\n",
              "      <th>wtd_entropy_Valence</th>\n",
              "      <th>range_Valence</th>\n",
              "      <th>wtd_range_Valence</th>\n",
              "      <th>std_Valence</th>\n",
              "      <th>wtd_std_Valence</th>\n",
              "      <th>critical_temp</th>\n",
              "    </tr>\n",
              "  </thead>\n",
              "  <tbody>\n",
              "    <tr>\n",
              "      <th>0</th>\n",
              "      <td>4</td>\n",
              "      <td>88.944468</td>\n",
              "      <td>57.862692</td>\n",
              "      <td>66.361592</td>\n",
              "      <td>36.116612</td>\n",
              "      <td>1.181795</td>\n",
              "      <td>1.062396</td>\n",
              "      <td>122.90607</td>\n",
              "      <td>31.794921</td>\n",
              "      <td>51.968828</td>\n",
              "      <td>...</td>\n",
              "      <td>2.257143</td>\n",
              "      <td>2.213364</td>\n",
              "      <td>2.219783</td>\n",
              "      <td>1.368922</td>\n",
              "      <td>1.066221</td>\n",
              "      <td>1</td>\n",
              "      <td>1.085714</td>\n",
              "      <td>0.433013</td>\n",
              "      <td>0.437059</td>\n",
              "      <td>29.0</td>\n",
              "    </tr>\n",
              "    <tr>\n",
              "      <th>1</th>\n",
              "      <td>5</td>\n",
              "      <td>92.729214</td>\n",
              "      <td>58.518416</td>\n",
              "      <td>73.132787</td>\n",
              "      <td>36.396602</td>\n",
              "      <td>1.449309</td>\n",
              "      <td>1.057755</td>\n",
              "      <td>122.90607</td>\n",
              "      <td>36.161939</td>\n",
              "      <td>47.094633</td>\n",
              "      <td>...</td>\n",
              "      <td>2.257143</td>\n",
              "      <td>1.888175</td>\n",
              "      <td>2.210679</td>\n",
              "      <td>1.557113</td>\n",
              "      <td>1.047221</td>\n",
              "      <td>2</td>\n",
              "      <td>1.128571</td>\n",
              "      <td>0.632456</td>\n",
              "      <td>0.468606</td>\n",
              "      <td>26.0</td>\n",
              "    </tr>\n",
              "    <tr>\n",
              "      <th>2</th>\n",
              "      <td>4</td>\n",
              "      <td>88.944468</td>\n",
              "      <td>57.885242</td>\n",
              "      <td>66.361592</td>\n",
              "      <td>36.122509</td>\n",
              "      <td>1.181795</td>\n",
              "      <td>0.975980</td>\n",
              "      <td>122.90607</td>\n",
              "      <td>35.741099</td>\n",
              "      <td>51.968828</td>\n",
              "      <td>...</td>\n",
              "      <td>2.271429</td>\n",
              "      <td>2.213364</td>\n",
              "      <td>2.232679</td>\n",
              "      <td>1.368922</td>\n",
              "      <td>1.029175</td>\n",
              "      <td>1</td>\n",
              "      <td>1.114286</td>\n",
              "      <td>0.433013</td>\n",
              "      <td>0.444697</td>\n",
              "      <td>19.0</td>\n",
              "    </tr>\n",
              "    <tr>\n",
              "      <th>3</th>\n",
              "      <td>4</td>\n",
              "      <td>88.944468</td>\n",
              "      <td>57.873967</td>\n",
              "      <td>66.361592</td>\n",
              "      <td>36.119560</td>\n",
              "      <td>1.181795</td>\n",
              "      <td>1.022291</td>\n",
              "      <td>122.90607</td>\n",
              "      <td>33.768010</td>\n",
              "      <td>51.968828</td>\n",
              "      <td>...</td>\n",
              "      <td>2.264286</td>\n",
              "      <td>2.213364</td>\n",
              "      <td>2.226222</td>\n",
              "      <td>1.368922</td>\n",
              "      <td>1.048834</td>\n",
              "      <td>1</td>\n",
              "      <td>1.100000</td>\n",
              "      <td>0.433013</td>\n",
              "      <td>0.440952</td>\n",
              "      <td>22.0</td>\n",
              "    </tr>\n",
              "    <tr>\n",
              "      <th>4</th>\n",
              "      <td>4</td>\n",
              "      <td>88.944468</td>\n",
              "      <td>57.840143</td>\n",
              "      <td>66.361592</td>\n",
              "      <td>36.110716</td>\n",
              "      <td>1.181795</td>\n",
              "      <td>1.129224</td>\n",
              "      <td>122.90607</td>\n",
              "      <td>27.848743</td>\n",
              "      <td>51.968828</td>\n",
              "      <td>...</td>\n",
              "      <td>2.242857</td>\n",
              "      <td>2.213364</td>\n",
              "      <td>2.206963</td>\n",
              "      <td>1.368922</td>\n",
              "      <td>1.096052</td>\n",
              "      <td>1</td>\n",
              "      <td>1.057143</td>\n",
              "      <td>0.433013</td>\n",
              "      <td>0.428809</td>\n",
              "      <td>23.0</td>\n",
              "    </tr>\n",
              "  </tbody>\n",
              "</table>\n",
              "<p>5 rows × 82 columns</p>\n",
              "</div>"
            ],
            "text/plain": [
              "   number_of_elements  mean_atomic_mass  wtd_mean_atomic_mass  \\\n",
              "0                   4         88.944468             57.862692   \n",
              "1                   5         92.729214             58.518416   \n",
              "2                   4         88.944468             57.885242   \n",
              "3                   4         88.944468             57.873967   \n",
              "4                   4         88.944468             57.840143   \n",
              "\n",
              "   gmean_atomic_mass  wtd_gmean_atomic_mass  entropy_atomic_mass  \\\n",
              "0          66.361592              36.116612             1.181795   \n",
              "1          73.132787              36.396602             1.449309   \n",
              "2          66.361592              36.122509             1.181795   \n",
              "3          66.361592              36.119560             1.181795   \n",
              "4          66.361592              36.110716             1.181795   \n",
              "\n",
              "   wtd_entropy_atomic_mass  range_atomic_mass  wtd_range_atomic_mass  \\\n",
              "0                 1.062396          122.90607              31.794921   \n",
              "1                 1.057755          122.90607              36.161939   \n",
              "2                 0.975980          122.90607              35.741099   \n",
              "3                 1.022291          122.90607              33.768010   \n",
              "4                 1.129224          122.90607              27.848743   \n",
              "\n",
              "   std_atomic_mass  ...  wtd_mean_Valence  gmean_Valence  wtd_gmean_Valence  \\\n",
              "0        51.968828  ...          2.257143       2.213364           2.219783   \n",
              "1        47.094633  ...          2.257143       1.888175           2.210679   \n",
              "2        51.968828  ...          2.271429       2.213364           2.232679   \n",
              "3        51.968828  ...          2.264286       2.213364           2.226222   \n",
              "4        51.968828  ...          2.242857       2.213364           2.206963   \n",
              "\n",
              "   entropy_Valence  wtd_entropy_Valence  range_Valence  wtd_range_Valence  \\\n",
              "0         1.368922             1.066221              1           1.085714   \n",
              "1         1.557113             1.047221              2           1.128571   \n",
              "2         1.368922             1.029175              1           1.114286   \n",
              "3         1.368922             1.048834              1           1.100000   \n",
              "4         1.368922             1.096052              1           1.057143   \n",
              "\n",
              "   std_Valence  wtd_std_Valence  critical_temp  \n",
              "0     0.433013         0.437059           29.0  \n",
              "1     0.632456         0.468606           26.0  \n",
              "2     0.433013         0.444697           19.0  \n",
              "3     0.433013         0.440952           22.0  \n",
              "4     0.433013         0.428809           23.0  \n",
              "\n",
              "[5 rows x 82 columns]"
            ]
          },
          "execution_count": 2,
          "metadata": {},
          "output_type": "execute_result"
        }
      ],
      "source": [
        "train.head()"
      ]
    },
    {
      "cell_type": "code",
      "execution_count": 3,
      "metadata": {
        "colab": {
          "base_uri": "https://localhost:8080/",
          "height": 236
        },
        "id": "q-rVoyaKskJ6",
        "outputId": "568785ea-61eb-443e-a3df-446bfe354362"
      },
      "outputs": [
        {
          "data": {
            "text/html": [
              "<div>\n",
              "<style scoped>\n",
              "    .dataframe tbody tr th:only-of-type {\n",
              "        vertical-align: middle;\n",
              "    }\n",
              "\n",
              "    .dataframe tbody tr th {\n",
              "        vertical-align: top;\n",
              "    }\n",
              "\n",
              "    .dataframe thead th {\n",
              "        text-align: right;\n",
              "    }\n",
              "</style>\n",
              "<table border=\"1\" class=\"dataframe\">\n",
              "  <thead>\n",
              "    <tr style=\"text-align: right;\">\n",
              "      <th></th>\n",
              "      <th>H</th>\n",
              "      <th>He</th>\n",
              "      <th>Li</th>\n",
              "      <th>Be</th>\n",
              "      <th>B</th>\n",
              "      <th>C</th>\n",
              "      <th>N</th>\n",
              "      <th>O</th>\n",
              "      <th>F</th>\n",
              "      <th>Ne</th>\n",
              "      <th>...</th>\n",
              "      <th>Au</th>\n",
              "      <th>Hg</th>\n",
              "      <th>Tl</th>\n",
              "      <th>Pb</th>\n",
              "      <th>Bi</th>\n",
              "      <th>Po</th>\n",
              "      <th>At</th>\n",
              "      <th>Rn</th>\n",
              "      <th>critical_temp</th>\n",
              "      <th>material</th>\n",
              "    </tr>\n",
              "  </thead>\n",
              "  <tbody>\n",
              "    <tr>\n",
              "      <th>0</th>\n",
              "      <td>0.0</td>\n",
              "      <td>0</td>\n",
              "      <td>0.0</td>\n",
              "      <td>0.0</td>\n",
              "      <td>0.0</td>\n",
              "      <td>0.0</td>\n",
              "      <td>0.0</td>\n",
              "      <td>4.0</td>\n",
              "      <td>0.0</td>\n",
              "      <td>0</td>\n",
              "      <td>...</td>\n",
              "      <td>0.0</td>\n",
              "      <td>0.0</td>\n",
              "      <td>0.0</td>\n",
              "      <td>0.0</td>\n",
              "      <td>0.0</td>\n",
              "      <td>0</td>\n",
              "      <td>0</td>\n",
              "      <td>0</td>\n",
              "      <td>29.0</td>\n",
              "      <td>Ba0.2La1.8Cu1O4</td>\n",
              "    </tr>\n",
              "    <tr>\n",
              "      <th>1</th>\n",
              "      <td>0.0</td>\n",
              "      <td>0</td>\n",
              "      <td>0.0</td>\n",
              "      <td>0.0</td>\n",
              "      <td>0.0</td>\n",
              "      <td>0.0</td>\n",
              "      <td>0.0</td>\n",
              "      <td>4.0</td>\n",
              "      <td>0.0</td>\n",
              "      <td>0</td>\n",
              "      <td>...</td>\n",
              "      <td>0.0</td>\n",
              "      <td>0.0</td>\n",
              "      <td>0.0</td>\n",
              "      <td>0.0</td>\n",
              "      <td>0.0</td>\n",
              "      <td>0</td>\n",
              "      <td>0</td>\n",
              "      <td>0</td>\n",
              "      <td>26.0</td>\n",
              "      <td>Ba0.1La1.9Ag0.1Cu0.9O4</td>\n",
              "    </tr>\n",
              "    <tr>\n",
              "      <th>2</th>\n",
              "      <td>0.0</td>\n",
              "      <td>0</td>\n",
              "      <td>0.0</td>\n",
              "      <td>0.0</td>\n",
              "      <td>0.0</td>\n",
              "      <td>0.0</td>\n",
              "      <td>0.0</td>\n",
              "      <td>4.0</td>\n",
              "      <td>0.0</td>\n",
              "      <td>0</td>\n",
              "      <td>...</td>\n",
              "      <td>0.0</td>\n",
              "      <td>0.0</td>\n",
              "      <td>0.0</td>\n",
              "      <td>0.0</td>\n",
              "      <td>0.0</td>\n",
              "      <td>0</td>\n",
              "      <td>0</td>\n",
              "      <td>0</td>\n",
              "      <td>19.0</td>\n",
              "      <td>Ba0.1La1.9Cu1O4</td>\n",
              "    </tr>\n",
              "    <tr>\n",
              "      <th>3</th>\n",
              "      <td>0.0</td>\n",
              "      <td>0</td>\n",
              "      <td>0.0</td>\n",
              "      <td>0.0</td>\n",
              "      <td>0.0</td>\n",
              "      <td>0.0</td>\n",
              "      <td>0.0</td>\n",
              "      <td>4.0</td>\n",
              "      <td>0.0</td>\n",
              "      <td>0</td>\n",
              "      <td>...</td>\n",
              "      <td>0.0</td>\n",
              "      <td>0.0</td>\n",
              "      <td>0.0</td>\n",
              "      <td>0.0</td>\n",
              "      <td>0.0</td>\n",
              "      <td>0</td>\n",
              "      <td>0</td>\n",
              "      <td>0</td>\n",
              "      <td>22.0</td>\n",
              "      <td>Ba0.15La1.85Cu1O4</td>\n",
              "    </tr>\n",
              "    <tr>\n",
              "      <th>4</th>\n",
              "      <td>0.0</td>\n",
              "      <td>0</td>\n",
              "      <td>0.0</td>\n",
              "      <td>0.0</td>\n",
              "      <td>0.0</td>\n",
              "      <td>0.0</td>\n",
              "      <td>0.0</td>\n",
              "      <td>4.0</td>\n",
              "      <td>0.0</td>\n",
              "      <td>0</td>\n",
              "      <td>...</td>\n",
              "      <td>0.0</td>\n",
              "      <td>0.0</td>\n",
              "      <td>0.0</td>\n",
              "      <td>0.0</td>\n",
              "      <td>0.0</td>\n",
              "      <td>0</td>\n",
              "      <td>0</td>\n",
              "      <td>0</td>\n",
              "      <td>23.0</td>\n",
              "      <td>Ba0.3La1.7Cu1O4</td>\n",
              "    </tr>\n",
              "  </tbody>\n",
              "</table>\n",
              "<p>5 rows × 88 columns</p>\n",
              "</div>"
            ],
            "text/plain": [
              "     H  He   Li   Be    B    C    N    O    F  Ne  ...   Au   Hg   Tl   Pb  \\\n",
              "0  0.0   0  0.0  0.0  0.0  0.0  0.0  4.0  0.0   0  ...  0.0  0.0  0.0  0.0   \n",
              "1  0.0   0  0.0  0.0  0.0  0.0  0.0  4.0  0.0   0  ...  0.0  0.0  0.0  0.0   \n",
              "2  0.0   0  0.0  0.0  0.0  0.0  0.0  4.0  0.0   0  ...  0.0  0.0  0.0  0.0   \n",
              "3  0.0   0  0.0  0.0  0.0  0.0  0.0  4.0  0.0   0  ...  0.0  0.0  0.0  0.0   \n",
              "4  0.0   0  0.0  0.0  0.0  0.0  0.0  4.0  0.0   0  ...  0.0  0.0  0.0  0.0   \n",
              "\n",
              "    Bi  Po  At  Rn  critical_temp                material  \n",
              "0  0.0   0   0   0           29.0         Ba0.2La1.8Cu1O4  \n",
              "1  0.0   0   0   0           26.0  Ba0.1La1.9Ag0.1Cu0.9O4  \n",
              "2  0.0   0   0   0           19.0         Ba0.1La1.9Cu1O4  \n",
              "3  0.0   0   0   0           22.0       Ba0.15La1.85Cu1O4  \n",
              "4  0.0   0   0   0           23.0         Ba0.3La1.7Cu1O4  \n",
              "\n",
              "[5 rows x 88 columns]"
            ]
          },
          "execution_count": 3,
          "metadata": {},
          "output_type": "execute_result"
        }
      ],
      "source": [
        "formula_train.head()"
      ]
    },
    {
      "cell_type": "code",
      "execution_count": 4,
      "metadata": {
        "colab": {
          "base_uri": "https://localhost:8080/"
        },
        "id": "6L9tA6Yrz5tV",
        "outputId": "3570b6e9-93cc-4ca4-918a-a66cc140772f"
      },
      "outputs": [
        {
          "name": "stdout",
          "output_type": "stream",
          "text": [
            "Number of missing values in train datasets:\n",
            "0\n",
            "0\n"
          ]
        }
      ],
      "source": [
        "print(\"Number of missing values in train datasets:\")\n",
        "print(train.isna().sum().sum())\n",
        "print(formula_train.isna().sum().sum())"
      ]
    },
    {
      "cell_type": "code",
      "execution_count": 5,
      "metadata": {
        "colab": {
          "base_uri": "https://localhost:8080/"
        },
        "id": "B8ReV4R80Lmt",
        "outputId": "055ba50f-f7ba-4605-a69b-669d5be37912"
      },
      "outputs": [
        {
          "name": "stdout",
          "output_type": "stream",
          "text": [
            "Number of missing values in test datasets:\n",
            "0\n",
            "0\n"
          ]
        }
      ],
      "source": [
        "print(\"Number of missing values in test datasets:\")\n",
        "print(test.isna().sum().sum())\n",
        "print(formula_test.isna().sum().sum())"
      ]
    },
    {
      "cell_type": "markdown",
      "metadata": {
        "id": "PB5lSwCg0mjX"
      },
      "source": [
        "## Предобработка данных"
      ]
    },
    {
      "cell_type": "code",
      "execution_count": 6,
      "metadata": {
        "colab": {
          "base_uri": "https://localhost:8080/"
        },
        "id": "2uT2iwvF0y5y",
        "outputId": "1df18f95-6f80-4712-d75a-e9bb8eddc902"
      },
      "outputs": [],
      "source": [
        "formula_train = formula_train.drop(columns=['critical_temp'])\n",
        "train_full = pd.concat([train, formula_train], axis=1)\n",
        "train_full.drop(columns=['material'], inplace=True)\n",
        "\n",
        "test_full = pd.concat([test, formula_test], axis=1)\n",
        "test_full.drop(columns=['material'], inplace=True)"
      ]
    },
    {
      "cell_type": "code",
      "execution_count": 7,
      "metadata": {
        "colab": {
          "base_uri": "https://localhost:8080/"
        },
        "id": "1U1X5gXCKXza",
        "outputId": "cb84531f-156d-45f4-8ed1-ec1418cf2838"
      },
      "outputs": [],
      "source": [
        "X = train_full.drop(columns=['critical_temp'])\n",
        "y = train_full['critical_temp']\n"
      ]
    },
    {
      "cell_type": "markdown",
      "metadata": {
        "id": "nnBGeY9YLnIl"
      },
      "source": [
        "## Обучение модели"
      ]
    },
    {
      "cell_type": "code",
      "execution_count": 8,
      "metadata": {
        "colab": {
          "base_uri": "https://localhost:8080/"
        },
        "id": "Chm1S944Nh1d",
        "outputId": "980f0137-7a4f-43c1-f785-0b8b31254285"
      },
      "outputs": [
        {
          "name": "stdout",
          "output_type": "stream",
          "text": [
            "Train dataset size: (11907, 167), (11907,)\n",
            "Test dataset size: (5103, 167), (5103,)\n"
          ]
        }
      ],
      "source": [
        "from sklearn.model_selection import train_test_split\n",
        "from sklearn.metrics import mean_absolute_error, mean_squared_error, r2_score\n",
        "from sklearn.ensemble import RandomForestRegressor\n",
        "from sklearn.model_selection import KFold\n",
        "from sklearn.model_selection import cross_val_score\n",
        "\n",
        "X_train, X_test, y_train, y_test = train_test_split(X, y, test_size=0.3)\n",
        "print(f'Train dataset size: {X_train.shape}, {y_train.shape}')\n",
        "print(f'Test dataset size: {X_test.shape}, {y_test.shape}')"
      ]
    },
    {
      "cell_type": "code",
      "execution_count": 9,
      "metadata": {},
      "outputs": [
        {
          "name": "stdout",
          "output_type": "stream",
          "text": [
            "[0.91770171 0.92175568 0.92018968 0.91642586 0.92188148]\n",
            "0.919590882095957\n",
            "Mean Absolute Error: 5.542423809549581\n",
            "Mean Squared Error: 104.4795918732697\n",
            "R2 score: 0.9100472363715597\n"
          ]
        }
      ],
      "source": [
        "# Используем случайный лес с 20 деревьями\n",
        "\n",
        "model = RandomForestRegressor(n_estimators=20)\n",
        "model.fit(X_train, y_train)\n",
        "\n",
        "kfold = KFold(n_splits=5, shuffle=True)\n",
        "scores = cross_val_score(model, X, y, cv=kfold, scoring='r2')\n",
        "y_pred = model.predict(X_test)\n",
        "\n",
        "print(scores)\n",
        "print(scores.mean())\n",
        "print('Mean Absolute Error:', mean_absolute_error(y_test, y_pred))\n",
        "print('Mean Squared Error:', mean_squared_error(y_test, y_pred))\n",
        "# R2 можно интерпретировать как долю объясненной дисперсии в данных. \n",
        "# Например, R2 = 0.8 означает, что 80% изменчивости зависимой переменной объясняется моделью.\n",
        "print('R2 score:', r2_score(y_test, y_pred))"
      ]
    },
    {
      "cell_type": "markdown",
      "metadata": {
        "id": "0HSAzThcVkuy"
      },
      "source": [
        "## Предсказание ответа для тестового набора данных"
      ]
    },
    {
      "cell_type": "code",
      "execution_count": 10,
      "metadata": {
        "id": "YmOh4F_uVoqO"
      },
      "outputs": [
        {
          "name": "stderr",
          "output_type": "stream",
          "text": [
            "d:\\WorkData\\SusuRepos\\workshop-projects\\.venv\\lib\\site-packages\\sklearn\\base.py:465: UserWarning: X does not have valid feature names, but RandomForestRegressor was fitted with feature names\n",
            "  warnings.warn(\n"
          ]
        },
        {
          "data": {
            "text/html": [
              "<div>\n",
              "<style scoped>\n",
              "    .dataframe tbody tr th:only-of-type {\n",
              "        vertical-align: middle;\n",
              "    }\n",
              "\n",
              "    .dataframe tbody tr th {\n",
              "        vertical-align: top;\n",
              "    }\n",
              "\n",
              "    .dataframe thead th {\n",
              "        text-align: right;\n",
              "    }\n",
              "</style>\n",
              "<table border=\"1\" class=\"dataframe\">\n",
              "  <thead>\n",
              "    <tr style=\"text-align: right;\">\n",
              "      <th></th>\n",
              "      <th>critical_temp</th>\n",
              "    </tr>\n",
              "  </thead>\n",
              "  <tbody>\n",
              "    <tr>\n",
              "      <th>0</th>\n",
              "      <td>21.565000</td>\n",
              "    </tr>\n",
              "    <tr>\n",
              "      <th>1</th>\n",
              "      <td>25.966667</td>\n",
              "    </tr>\n",
              "    <tr>\n",
              "      <th>2</th>\n",
              "      <td>92.193333</td>\n",
              "    </tr>\n",
              "    <tr>\n",
              "      <th>3</th>\n",
              "      <td>80.725000</td>\n",
              "    </tr>\n",
              "    <tr>\n",
              "      <th>4</th>\n",
              "      <td>88.703333</td>\n",
              "    </tr>\n",
              "    <tr>\n",
              "      <th>...</th>\n",
              "      <td>...</td>\n",
              "    </tr>\n",
              "    <tr>\n",
              "      <th>4248</th>\n",
              "      <td>25.155000</td>\n",
              "    </tr>\n",
              "    <tr>\n",
              "      <th>4249</th>\n",
              "      <td>5.466000</td>\n",
              "    </tr>\n",
              "    <tr>\n",
              "      <th>4250</th>\n",
              "      <td>2.929000</td>\n",
              "    </tr>\n",
              "    <tr>\n",
              "      <th>4251</th>\n",
              "      <td>2.089000</td>\n",
              "    </tr>\n",
              "    <tr>\n",
              "      <th>4252</th>\n",
              "      <td>2.089000</td>\n",
              "    </tr>\n",
              "  </tbody>\n",
              "</table>\n",
              "<p>4253 rows × 1 columns</p>\n",
              "</div>"
            ],
            "text/plain": [
              "      critical_temp\n",
              "0         21.565000\n",
              "1         25.966667\n",
              "2         92.193333\n",
              "3         80.725000\n",
              "4         88.703333\n",
              "...             ...\n",
              "4248      25.155000\n",
              "4249       5.466000\n",
              "4250       2.929000\n",
              "4251       2.089000\n",
              "4252       2.089000\n",
              "\n",
              "[4253 rows x 1 columns]"
            ]
          },
          "execution_count": 10,
          "metadata": {},
          "output_type": "execute_result"
        }
      ],
      "source": [
        "y_pred_test = model.predict(test_full.values)\n",
        "y_pred_test = pd.DataFrame(y_pred_test, columns=['critical_temp'])\n",
        "y_pred_test"
      ]
    },
    {
      "cell_type": "code",
      "execution_count": 11,
      "metadata": {},
      "outputs": [],
      "source": [
        "y_pred_test.to_csv(\"predict.csv\", index=False)"
      ]
    }
  ],
  "metadata": {
    "colab": {
      "provenance": []
    },
    "kernelspec": {
      "display_name": "Python 3",
      "name": "python3"
    },
    "language_info": {
      "codemirror_mode": {
        "name": "ipython",
        "version": 3
      },
      "file_extension": ".py",
      "mimetype": "text/x-python",
      "name": "python",
      "nbconvert_exporter": "python",
      "pygments_lexer": "ipython3",
      "version": "3.10.8"
    }
  },
  "nbformat": 4,
  "nbformat_minor": 0
}

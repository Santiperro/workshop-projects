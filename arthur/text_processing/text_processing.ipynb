{
 "cells": [
  {
   "cell_type": "code",
   "execution_count": 1,
   "metadata": {},
   "outputs": [
    {
     "name": "stderr",
     "output_type": "stream",
     "text": [
      "2023-12-25 00:00:33.768565: E external/local_xla/xla/stream_executor/cuda/cuda_dnn.cc:9261] Unable to register cuDNN factory: Attempting to register factory for plugin cuDNN when one has already been registered\n",
      "2023-12-25 00:00:33.768603: E external/local_xla/xla/stream_executor/cuda/cuda_fft.cc:607] Unable to register cuFFT factory: Attempting to register factory for plugin cuFFT when one has already been registered\n",
      "2023-12-25 00:00:33.769143: E external/local_xla/xla/stream_executor/cuda/cuda_blas.cc:1515] Unable to register cuBLAS factory: Attempting to register factory for plugin cuBLAS when one has already been registered\n",
      "2023-12-25 00:00:33.772594: I tensorflow/core/platform/cpu_feature_guard.cc:182] This TensorFlow binary is optimized to use available CPU instructions in performance-critical operations.\n",
      "To enable the following instructions: AVX2 FMA, in other operations, rebuild TensorFlow with the appropriate compiler flags.\n",
      "2023-12-25 00:00:34.314230: W tensorflow/compiler/tf2tensorrt/utils/py_utils.cc:38] TF-TRT Warning: Could not find TensorRT\n"
     ]
    }
   ],
   "source": [
    "import pandas as pd\n",
    "import numpy as np\n",
    "import matplotlib.pyplot as plt\n",
    "import seaborn as sns\n",
    "from sklearn.metrics import confusion_matrix\n",
    "from keras.preprocessing.text import Tokenizer\n",
    "from keras.models import Sequential\n",
    "from keras.layers import Embedding, LSTM, Bidirectional, Dropout, Dense, BatchNormalization\n",
    "from sklearn.preprocessing import LabelEncoder\n",
    "from keras.preprocessing.sequence import pad_sequences\n",
    "from keras.utils import to_categorical\n",
    "from sklearn.model_selection import train_test_split"
   ]
  },
  {
   "cell_type": "code",
   "execution_count": 2,
   "metadata": {},
   "outputs": [
    {
     "data": {
      "text/html": [
       "<div>\n",
       "<style scoped>\n",
       "    .dataframe tbody tr th:only-of-type {\n",
       "        vertical-align: middle;\n",
       "    }\n",
       "\n",
       "    .dataframe tbody tr th {\n",
       "        vertical-align: top;\n",
       "    }\n",
       "\n",
       "    .dataframe thead th {\n",
       "        text-align: right;\n",
       "    }\n",
       "</style>\n",
       "<table border=\"1\" class=\"dataframe\">\n",
       "  <thead>\n",
       "    <tr style=\"text-align: right;\">\n",
       "      <th></th>\n",
       "      <th>2</th>\n",
       "      <th>Stuning even for the non-gamer</th>\n",
       "      <th>This sound track was beautiful! It paints the senery in your mind so well I would recomend it even to people who hate vid. game music! I have played the game Chrono Cross but out of all of the games I have ever played it has the best music! It backs away from crude keyboarding and takes a fresher step with grate guitars and soulful orchestras. It would impress anyone who cares to listen! ^_^</th>\n",
       "    </tr>\n",
       "  </thead>\n",
       "  <tbody>\n",
       "    <tr>\n",
       "      <th>0</th>\n",
       "      <td>2</td>\n",
       "      <td>The best soundtrack ever to anything.</td>\n",
       "      <td>I'm reading a lot of reviews saying that this ...</td>\n",
       "    </tr>\n",
       "    <tr>\n",
       "      <th>1</th>\n",
       "      <td>2</td>\n",
       "      <td>Amazing!</td>\n",
       "      <td>This soundtrack is my favorite music of all ti...</td>\n",
       "    </tr>\n",
       "    <tr>\n",
       "      <th>2</th>\n",
       "      <td>2</td>\n",
       "      <td>Excellent Soundtrack</td>\n",
       "      <td>I truly like this soundtrack and I enjoy video...</td>\n",
       "    </tr>\n",
       "    <tr>\n",
       "      <th>3</th>\n",
       "      <td>2</td>\n",
       "      <td>Remember, Pull Your Jaw Off The Floor After He...</td>\n",
       "      <td>If you've played the game, you know how divine...</td>\n",
       "    </tr>\n",
       "    <tr>\n",
       "      <th>4</th>\n",
       "      <td>2</td>\n",
       "      <td>an absolute masterpiece</td>\n",
       "      <td>I am quite sure any of you actually taking the...</td>\n",
       "    </tr>\n",
       "  </tbody>\n",
       "</table>\n",
       "</div>"
      ],
      "text/plain": [
       "   2                     Stuning even for the non-gamer  \\\n",
       "0  2              The best soundtrack ever to anything.   \n",
       "1  2                                           Amazing!   \n",
       "2  2                               Excellent Soundtrack   \n",
       "3  2  Remember, Pull Your Jaw Off The Floor After He...   \n",
       "4  2                            an absolute masterpiece   \n",
       "\n",
       "  This sound track was beautiful! It paints the senery in your mind so well I would recomend it even to people who hate vid. game music! I have played the game Chrono Cross but out of all of the games I have ever played it has the best music! It backs away from crude keyboarding and takes a fresher step with grate guitars and soulful orchestras. It would impress anyone who cares to listen! ^_^  \n",
       "0  I'm reading a lot of reviews saying that this ...                                                                                                                                                                                                                                                                                                                                                          \n",
       "1  This soundtrack is my favorite music of all ti...                                                                                                                                                                                                                                                                                                                                                          \n",
       "2  I truly like this soundtrack and I enjoy video...                                                                                                                                                                                                                                                                                                                                                          \n",
       "3  If you've played the game, you know how divine...                                                                                                                                                                                                                                                                                                                                                          \n",
       "4  I am quite sure any of you actually taking the...                                                                                                                                                                                                                                                                                                                                                          "
      ]
     },
     "execution_count": 2,
     "metadata": {},
     "output_type": "execute_result"
    }
   ],
   "source": [
    "# Загрузка данных\n",
    "train_input_df = pd.read_csv(\"data/train.csv\")\n",
    "test_input_df = pd.read_csv(\"data/test.csv\")\n",
    "\n",
    "train_input_df.head(5)"
   ]
  },
  {
   "cell_type": "code",
   "execution_count": 3,
   "metadata": {},
   "outputs": [
    {
     "data": {
      "text/plain": [
       "(3599999, 399999)"
      ]
     },
     "execution_count": 3,
     "metadata": {},
     "output_type": "execute_result"
    }
   ],
   "source": [
    "len(train_input_df), len(test_input_df)"
   ]
  },
  {
   "cell_type": "code",
   "execution_count": 4,
   "metadata": {},
   "outputs": [
    {
     "data": {
      "text/html": [
       "<div>\n",
       "<style scoped>\n",
       "    .dataframe tbody tr th:only-of-type {\n",
       "        vertical-align: middle;\n",
       "    }\n",
       "\n",
       "    .dataframe tbody tr th {\n",
       "        vertical-align: top;\n",
       "    }\n",
       "\n",
       "    .dataframe thead th {\n",
       "        text-align: right;\n",
       "    }\n",
       "</style>\n",
       "<table border=\"1\" class=\"dataframe\">\n",
       "  <thead>\n",
       "    <tr style=\"text-align: right;\">\n",
       "      <th></th>\n",
       "      <th>class</th>\n",
       "      <th>reviev</th>\n",
       "    </tr>\n",
       "  </thead>\n",
       "  <tbody>\n",
       "    <tr>\n",
       "      <th>2187470</th>\n",
       "      <td>2</td>\n",
       "      <td>I love this iPod. I was very skeptical when I ...</td>\n",
       "    </tr>\n",
       "    <tr>\n",
       "      <th>3014044</th>\n",
       "      <td>2</td>\n",
       "      <td>This book really tells us what the Public Heal...</td>\n",
       "    </tr>\n",
       "    <tr>\n",
       "      <th>3475338</th>\n",
       "      <td>1</td>\n",
       "      <td>Measures approximately 8\" H x 6\" ID x 11 1/2\" ...</td>\n",
       "    </tr>\n",
       "    <tr>\n",
       "      <th>2182990</th>\n",
       "      <td>1</td>\n",
       "      <td>I was excited to find this product on sale bec...</td>\n",
       "    </tr>\n",
       "    <tr>\n",
       "      <th>262243</th>\n",
       "      <td>1</td>\n",
       "      <td>Adult one size fits all - not over a shoe size...</td>\n",
       "    </tr>\n",
       "  </tbody>\n",
       "</table>\n",
       "</div>"
      ],
      "text/plain": [
       "         class                                             reviev\n",
       "2187470      2  I love this iPod. I was very skeptical when I ...\n",
       "3014044      2  This book really tells us what the Public Heal...\n",
       "3475338      1  Measures approximately 8\" H x 6\" ID x 11 1/2\" ...\n",
       "2182990      1  I was excited to find this product on sale bec...\n",
       "262243       1  Adult one size fits all - not over a shoe size..."
      ]
     },
     "execution_count": 4,
     "metadata": {},
     "output_type": "execute_result"
    }
   ],
   "source": [
    "max_rows = 50_000\n",
    "val_size = 0.2\n",
    "test_size = 0.2\n",
    "\n",
    "# Создание случайной выборки и одновременное разделение данных\n",
    "# 0.8 на train И val\n",
    "train_sample_df = train_input_df.sample(n=int(max_rows * (1 - test_size)))\n",
    "\n",
    "train_val = pd.DataFrame()\n",
    "train_val[\"class\"] = train_sample_df.iloc[:, 0]\n",
    "train_val[\"reviev\"] = train_sample_df.iloc[:, 2]\n",
    "\n",
    "# 0.8 на train И 0.2 на val\n",
    "train, val = train_test_split(train_val, test_size=val_size)\n",
    "\n",
    "# 0.2 идет на тест\n",
    "test_sample_df = test_input_df.sample(n=int(max_rows * test_size))\n",
    "\n",
    "test = pd.DataFrame()\n",
    "test[\"class\"] = test_sample_df.iloc[:, 0]\n",
    "test[\"reviev\"] = test_sample_df.iloc[:, 2]\n",
    "\n",
    "# del train_input_df\n",
    "# del test_input_df\n",
    "# del train_val\n",
    "\n",
    "train.head(5)"
   ]
  },
  {
   "cell_type": "code",
   "execution_count": 5,
   "metadata": {},
   "outputs": [
    {
     "data": {
      "text/plain": [
       "(32000, 8000, 10000)"
      ]
     },
     "execution_count": 5,
     "metadata": {},
     "output_type": "execute_result"
    }
   ],
   "source": [
    "len(train), len(val), len(test)"
   ]
  },
  {
   "cell_type": "code",
   "execution_count": 6,
   "metadata": {},
   "outputs": [
    {
     "data": {
      "text/plain": [
       "class\n",
       "2    16002\n",
       "1    15998\n",
       "Name: count, dtype: int64"
      ]
     },
     "execution_count": 6,
     "metadata": {},
     "output_type": "execute_result"
    }
   ],
   "source": [
    "# Число каждого класса (1 - Негативный, 2 - Позитивный)\n",
    "train[\"class\"].value_counts()"
   ]
  },
  {
   "cell_type": "code",
   "execution_count": 7,
   "metadata": {},
   "outputs": [
    {
     "data": {
      "text/plain": [
       "class\n",
       "1    4004\n",
       "2    3996\n",
       "Name: count, dtype: int64"
      ]
     },
     "execution_count": 7,
     "metadata": {},
     "output_type": "execute_result"
    }
   ],
   "source": [
    "val[\"class\"].value_counts()"
   ]
  },
  {
   "cell_type": "code",
   "execution_count": 8,
   "metadata": {},
   "outputs": [
    {
     "data": {
      "text/plain": [
       "class\n",
       "1    5057\n",
       "2    4943\n",
       "Name: count, dtype: int64"
      ]
     },
     "execution_count": 8,
     "metadata": {},
     "output_type": "execute_result"
    }
   ],
   "source": [
    "test[\"class\"].value_counts()"
   ]
  },
  {
   "cell_type": "code",
   "execution_count": 9,
   "metadata": {},
   "outputs": [],
   "source": [
    "# Разделение данных на текст и метки\n",
    "def text_class_split(df, class_col_name):\n",
    "    return df.drop(class_col_name, axis=1), df[class_col_name]\n",
    "\n",
    "\n",
    "train_text, train_classes = text_class_split(train, \"class\")\n",
    "val_text, val_classes = text_class_split(val, \"class\")\n",
    "test_text, test_classes = text_class_split(test, \"class\")\n",
    "\n",
    "# Сброс индекса\n",
    "train_text.reset_index(drop=True, inplace=True)\n",
    "val_text.reset_index(drop=True, inplace=True)\n",
    "test_text.reset_index(drop=True, inplace=True)"
   ]
  },
  {
   "cell_type": "code",
   "execution_count": 10,
   "metadata": {},
   "outputs": [
    {
     "data": {
      "text/html": [
       "<div>\n",
       "<style scoped>\n",
       "    .dataframe tbody tr th:only-of-type {\n",
       "        vertical-align: middle;\n",
       "    }\n",
       "\n",
       "    .dataframe tbody tr th {\n",
       "        vertical-align: top;\n",
       "    }\n",
       "\n",
       "    .dataframe thead th {\n",
       "        text-align: right;\n",
       "    }\n",
       "</style>\n",
       "<table border=\"1\" class=\"dataframe\">\n",
       "  <thead>\n",
       "    <tr style=\"text-align: right;\">\n",
       "      <th></th>\n",
       "      <th>reviev</th>\n",
       "    </tr>\n",
       "  </thead>\n",
       "  <tbody>\n",
       "    <tr>\n",
       "      <th>0</th>\n",
       "      <td>i love this ipod i was very skeptical when i o...</td>\n",
       "    </tr>\n",
       "    <tr>\n",
       "      <th>1</th>\n",
       "      <td>this book really tells us what the public heal...</td>\n",
       "    </tr>\n",
       "    <tr>\n",
       "      <th>2</th>\n",
       "      <td>measures approximately  h x  id x   odim not s...</td>\n",
       "    </tr>\n",
       "    <tr>\n",
       "      <th>3</th>\n",
       "      <td>i was excited to find this product on sale bec...</td>\n",
       "    </tr>\n",
       "    <tr>\n",
       "      <th>4</th>\n",
       "      <td>adult one size fits all  not over a shoe size ...</td>\n",
       "    </tr>\n",
       "  </tbody>\n",
       "</table>\n",
       "</div>"
      ],
      "text/plain": [
       "                                              reviev\n",
       "0  i love this ipod i was very skeptical when i o...\n",
       "1  this book really tells us what the public heal...\n",
       "2  measures approximately  h x  id x   odim not s...\n",
       "3  i was excited to find this product on sale bec...\n",
       "4  adult one size fits all  not over a shoe size ..."
      ]
     },
     "execution_count": 10,
     "metadata": {},
     "output_type": "execute_result"
    }
   ],
   "source": [
    "import re\n",
    "\n",
    "\n",
    "# Удаление всех символов кроме букв\n",
    "def remove_marks(text):\n",
    "    text = re.sub(r'[^A-Za-zÀ-ú ]+', '', text)\n",
    "    return text.lower()\n",
    "\n",
    "\n",
    "train_text[\"reviev\"] = train_text[\"reviev\"].apply(remove_marks)\n",
    "val_text[\"reviev\"] = val_text[\"reviev\"].apply(remove_marks)\n",
    "test_text[\"reviev\"] = test_text[\"reviev\"].apply(remove_marks)\n",
    "train_text.head(5)"
   ]
  },
  {
   "cell_type": "code",
   "execution_count": 11,
   "metadata": {},
   "outputs": [],
   "source": [
    "# Приводим в форму (x, ) (Из df делаем serias)\n",
    "train_text = train_text.squeeze()\n",
    "val_text = val_text.squeeze()\n",
    "test_text = test_text.squeeze()\n",
    "\n",
    "# Кодирование меток\n",
    "encoder = LabelEncoder()\n",
    "train_y = encoder.fit_transform(train_classes)\n",
    "val_y = encoder.transform(val_classes)\n",
    "test_y = encoder.transform(test_classes)"
   ]
  },
  {
   "cell_type": "code",
   "execution_count": 12,
   "metadata": {},
   "outputs": [],
   "source": [
    "# Использованеи Tokenizer для преобразования в\n",
    "max_words = 10000\n",
    "max_len = 100\n",
    "embedding_dim = 64\n",
    "\n",
    "\n",
    "tokenizer = Tokenizer(num_words=max_words)\n",
    "tokenizer.fit_on_texts(train_text)\n",
    "                            \n",
    "sequences = tokenizer.texts_to_sequences(train_text)\n",
    "train_x = pad_sequences(sequences, maxlen=max_len) \n",
    "\n",
    "sequences = tokenizer.texts_to_sequences(val_text)\n",
    "val_x = pad_sequences(sequences, maxlen=max_len)\n",
    "\n",
    "sequences = tokenizer.texts_to_sequences(test_text)\n",
    "test_x = pad_sequences(sequences, maxlen=max_len)"
   ]
  },
  {
   "cell_type": "code",
   "execution_count": 13,
   "metadata": {},
   "outputs": [
    {
     "name": "stderr",
     "output_type": "stream",
     "text": [
      "2023-12-25 00:01:17.706509: I external/local_xla/xla/stream_executor/cuda/cuda_executor.cc:887] could not open file to read NUMA node: /sys/bus/pci/devices/0000:01:00.0/numa_node\n",
      "Your kernel may have been built without NUMA support.\n",
      "2023-12-25 00:01:17.733096: I external/local_xla/xla/stream_executor/cuda/cuda_executor.cc:887] could not open file to read NUMA node: /sys/bus/pci/devices/0000:01:00.0/numa_node\n",
      "Your kernel may have been built without NUMA support.\n",
      "2023-12-25 00:01:17.733138: I external/local_xla/xla/stream_executor/cuda/cuda_executor.cc:887] could not open file to read NUMA node: /sys/bus/pci/devices/0000:01:00.0/numa_node\n",
      "Your kernel may have been built without NUMA support.\n",
      "2023-12-25 00:01:17.736109: I external/local_xla/xla/stream_executor/cuda/cuda_executor.cc:887] could not open file to read NUMA node: /sys/bus/pci/devices/0000:01:00.0/numa_node\n",
      "Your kernel may have been built without NUMA support.\n",
      "2023-12-25 00:01:17.736150: I external/local_xla/xla/stream_executor/cuda/cuda_executor.cc:887] could not open file to read NUMA node: /sys/bus/pci/devices/0000:01:00.0/numa_node\n",
      "Your kernel may have been built without NUMA support.\n",
      "2023-12-25 00:01:17.736170: I external/local_xla/xla/stream_executor/cuda/cuda_executor.cc:887] could not open file to read NUMA node: /sys/bus/pci/devices/0000:01:00.0/numa_node\n",
      "Your kernel may have been built without NUMA support.\n",
      "2023-12-25 00:01:17.816897: I external/local_xla/xla/stream_executor/cuda/cuda_executor.cc:887] could not open file to read NUMA node: /sys/bus/pci/devices/0000:01:00.0/numa_node\n",
      "Your kernel may have been built without NUMA support.\n",
      "2023-12-25 00:01:17.816962: I external/local_xla/xla/stream_executor/cuda/cuda_executor.cc:887] could not open file to read NUMA node: /sys/bus/pci/devices/0000:01:00.0/numa_node\n",
      "Your kernel may have been built without NUMA support.\n",
      "2023-12-25 00:01:17.816967: I tensorflow/core/common_runtime/gpu/gpu_device.cc:2022] Could not identify NUMA node of platform GPU id 0, defaulting to 0.  Your kernel may not have been built with NUMA support.\n",
      "2023-12-25 00:01:17.816993: I external/local_xla/xla/stream_executor/cuda/cuda_executor.cc:887] could not open file to read NUMA node: /sys/bus/pci/devices/0000:01:00.0/numa_node\n",
      "Your kernel may have been built without NUMA support.\n",
      "2023-12-25 00:01:17.817008: I tensorflow/core/common_runtime/gpu/gpu_device.cc:1929] Created device /job:localhost/replica:0/task:0/device:GPU:0 with 5036 MB memory:  -> device: 0, name: NVIDIA GeForce RTX 3070, pci bus id: 0000:01:00.0, compute capability: 8.6\n",
      "2023-12-25 00:01:18.390943: I external/local_tsl/tsl/platform/default/subprocess.cc:304] Start cannot spawn child process: No such file or directory\n"
     ]
    },
    {
     "name": "stdout",
     "output_type": "stream",
     "text": [
      "Epoch 1/15\n"
     ]
    },
    {
     "name": "stderr",
     "output_type": "stream",
     "text": [
      "2023-12-25 00:01:21.439221: I external/local_xla/xla/stream_executor/cuda/cuda_dnn.cc:454] Loaded cuDNN version 8904\n",
      "2023-12-25 00:01:22.011137: I external/local_xla/xla/service/service.cc:168] XLA service 0x7f29c0753bc0 initialized for platform CUDA (this does not guarantee that XLA will be used). Devices:\n",
      "2023-12-25 00:01:22.011168: I external/local_xla/xla/service/service.cc:176]   StreamExecutor device (0): NVIDIA GeForce RTX 3070, Compute Capability 8.6\n",
      "2023-12-25 00:01:22.014062: I tensorflow/compiler/mlir/tensorflow/utils/dump_mlir_util.cc:269] disabling MLIR crash reproducer, set env var `MLIR_CRASH_REPRODUCER_DIRECTORY` to enable.\n",
      "WARNING: All log messages before absl::InitializeLog() is called are written to STDERR\n",
      "I0000 00:00:1703444482.043175   30179 device_compiler.h:186] Compiled cluster using XLA!  This line is logged at most once for the lifetime of the process.\n"
     ]
    },
    {
     "name": "stdout",
     "output_type": "stream",
     "text": [
      "250/250 [==============================] - 15s 49ms/step - loss: 0.5343 - accuracy: 0.7099 - val_loss: 0.4016 - val_accuracy: 0.8216\n",
      "Epoch 2/15\n",
      "250/250 [==============================] - 8s 33ms/step - loss: 0.3566 - accuracy: 0.8507 - val_loss: 0.3556 - val_accuracy: 0.8478\n",
      "Epoch 3/15\n",
      "250/250 [==============================] - 7s 29ms/step - loss: 0.3007 - accuracy: 0.8816 - val_loss: 0.3495 - val_accuracy: 0.8580\n",
      "Epoch 4/15\n",
      "250/250 [==============================] - 7s 27ms/step - loss: 0.2689 - accuracy: 0.8973 - val_loss: 0.4459 - val_accuracy: 0.8309\n",
      "Epoch 5/15\n",
      "250/250 [==============================] - 7s 27ms/step - loss: 0.2418 - accuracy: 0.9093 - val_loss: 0.3642 - val_accuracy: 0.8531\n",
      "Epoch 6/15\n",
      "250/250 [==============================] - 6s 25ms/step - loss: 0.2182 - accuracy: 0.9218 - val_loss: 0.3883 - val_accuracy: 0.8540\n",
      "Epoch 7/15\n",
      "250/250 [==============================] - 6s 25ms/step - loss: 0.1963 - accuracy: 0.9296 - val_loss: 0.4128 - val_accuracy: 0.8385\n",
      "Epoch 8/15\n",
      "250/250 [==============================] - 6s 25ms/step - loss: 0.1745 - accuracy: 0.9394 - val_loss: 0.5143 - val_accuracy: 0.8134\n",
      "Epoch 9/15\n",
      "250/250 [==============================] - 6s 24ms/step - loss: 0.1543 - accuracy: 0.9463 - val_loss: 0.4678 - val_accuracy: 0.8411\n",
      "Epoch 10/15\n",
      "250/250 [==============================] - 6s 25ms/step - loss: 0.1363 - accuracy: 0.9544 - val_loss: 0.4506 - val_accuracy: 0.8356\n",
      "Epoch 11/15\n",
      "250/250 [==============================] - 6s 25ms/step - loss: 0.1177 - accuracy: 0.9621 - val_loss: 0.5016 - val_accuracy: 0.8319\n",
      "Epoch 12/15\n",
      "250/250 [==============================] - 6s 25ms/step - loss: 0.1028 - accuracy: 0.9669 - val_loss: 0.5627 - val_accuracy: 0.8231\n",
      "Epoch 13/15\n",
      "250/250 [==============================] - 6s 25ms/step - loss: 0.0896 - accuracy: 0.9727 - val_loss: 0.5453 - val_accuracy: 0.8370\n",
      "Epoch 14/15\n",
      "250/250 [==============================] - 6s 25ms/step - loss: 0.0796 - accuracy: 0.9757 - val_loss: 0.5919 - val_accuracy: 0.8384\n",
      "Epoch 15/15\n",
      "250/250 [==============================] - 6s 24ms/step - loss: 0.0682 - accuracy: 0.9796 - val_loss: 0.5871 - val_accuracy: 0.8354\n",
      "313/313 [==============================] - 3s 9ms/step - loss: 0.6174 - accuracy: 0.8323\n",
      "Test Accuracy: 83.23%\n",
      "Test Loss: 0.6174\n"
     ]
    }
   ],
   "source": [
    "epochs = 15\n",
    "batch_size = 128\n",
    "\n",
    "model = Sequential([\n",
    "    Embedding(input_dim=max_words, output_dim=embedding_dim, input_length=max_len),\n",
    "    # рекуррентный слой 128 нейронами\n",
    "    Bidirectional(LSTM(units=128, return_sequences=True)), \n",
    "    # Отключают 30% процентов нейронов защищая от переобучения\n",
    "    Dropout(0.5),\n",
    "    Bidirectional(LSTM(units=64)),\n",
    "    Dropout(0.3),\n",
    "    Dense(1, activation='sigmoid')\n",
    "])\n",
    "\n",
    "\n",
    "# Компиляция модели с выбором оптимизатора, функции потерь и метрики\n",
    "model.compile(optimizer='rmsprop', loss='binary_crossentropy', metrics=['accuracy'])\n",
    "\n",
    "# Обучение модели на обучающих данных и оценка на валидационных данных\n",
    "history = model.fit(train_x, train_y, epochs=epochs, batch_size=batch_size, validation_data=(val_x, val_y))\n",
    "\n",
    "# Оценка производительности модели на тестовых данных\n",
    "test_loss, test_accuracy = model.evaluate(test_x, test_y)\n",
    "\n",
    "print(f\"Test Accuracy: {test_accuracy*100:.2f}%\")\n",
    "print(f\"Test Loss: {test_loss:.4f}\")"
   ]
  },
  {
   "cell_type": "code",
   "execution_count": 23,
   "metadata": {},
   "outputs": [
    {
     "name": "stdout",
     "output_type": "stream",
     "text": [
      "313/313 [==============================] - 2s 7ms/step\n"
     ]
    },
    {
     "data": {
      "image/png": "[encoded data removed]",
      "text/plain": [
       "<Figure size 1000x700 with 2 Axes>"
      ]
     },
     "metadata": {},
     "output_type": "display_data"
    }
   ],
   "source": [
    "\n",
    "# Получение предсказаний модели для тестовых данных\n",
    "predictions = model.predict(test_x)\n",
    "predictions\n",
    "\n",
    "\n",
    "# Вероятность того что комментарий позитивный\n",
    "predicted_classes = [1 if p > 0.5 else 0 for p in predictions]\n",
    "\n",
    "# Создание матрицы ошибок\n",
    "cm = confusion_matrix(test_y, predicted_classes)\n",
    "\n",
    "# Визуализация матрицы ошибок\n",
    "plt.figure(figsize=(10, 7))\n",
    "sns.heatmap(cm, annot=True, fmt='d', xticklabels=['Негативный', 'Позитивный'], yticklabels=['Негативный', 'Позитивный'])\n",
    "plt.title('Матрица ошибок')\n",
    "plt.xlabel('Истинное значение')\n",
    "plt.ylabel('Предсказанное значение')\n",
    "plt.show()\n"
   ]
  },
  {
   "cell_type": "code",
   "execution_count": 36,
   "metadata": {},
   "outputs": [
    {
     "name": "stdout",
     "output_type": "stream",
     "text": [
      "1/1 [==============================] - 0s 17ms/step\n",
      "Отрицательный комментарий\n"
     ]
    }
   ],
   "source": [
    "def predict(text): \n",
    "    text = remove_marks(text)       \n",
    "    sequences = tokenizer.texts_to_sequences([text])\n",
    "    x_new = pad_sequences(sequences, maxlen=max_len)\n",
    "    \n",
    "    prediction = model.predict(x_new)[0][0]\n",
    "    if prediction > 0.5:\n",
    "        print(\"Положительный комментарий\")\n",
    "    else:\n",
    "        print(\"Отрицательный комментарий\")\n",
    "    \n",
    "    \n",
    "predict(\"Terrible product! Disgusting quality!\")"
   ]
  },
  {
   "cell_type": "code",
   "execution_count": 37,
   "metadata": {},
   "outputs": [
    {
     "name": "stdout",
     "output_type": "stream",
     "text": [
      "1/1 [==============================] - 0s 17ms/step\n",
      "Положительный комментарий\n"
     ]
    }
   ],
   "source": [
    "predict(\"I love this phone. It holds the power for a very long time\")"
   ]
  },
  {
   "cell_type": "code",
   "execution_count": 38,
   "metadata": {},
   "outputs": [
    {
     "name": "stdout",
     "output_type": "stream",
     "text": [
      "1/1 [==============================] - 0s 17ms/step\n",
      "Отрицательный комментарий\n"
     ]
    }
   ],
   "source": [
    "predict(\"The seller is just an idiot. They didn't send what I ordered\")"
   ]
  }
 ],
 "metadata": {
  "kernelspec": {
   "display_name": "tf",
   "language": "python",
   "name": "python3"
  },
  "language_info": {
   "codemirror_mode": {
    "name": "ipython",
    "version": 3
   },
   "file_extension": ".py",
   "mimetype": "text/x-python",
   "name": "python",
   "nbconvert_exporter": "python",
   "pygments_lexer": "ipython3",
   "version": "3.11.5"
  }
 },
 "nbformat": 4,
 "nbformat_minor": 2
}

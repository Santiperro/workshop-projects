{
 "cells": [
  {
   "cell_type": "code",
   "execution_count": 1,
   "metadata": {},
   "outputs": [
    {
     "name": "stderr",
     "output_type": "stream",
     "text": [
      "2023-12-20 17:57:51.870248: E external/local_xla/xla/stream_executor/cuda/cuda_dnn.cc:9261] Unable to register cuDNN factory: Attempting to register factory for plugin cuDNN when one has already been registered\n",
      "2023-12-20 17:57:51.870287: E external/local_xla/xla/stream_executor/cuda/cuda_fft.cc:607] Unable to register cuFFT factory: Attempting to register factory for plugin cuFFT when one has already been registered\n",
      "2023-12-20 17:57:51.870872: E external/local_xla/xla/stream_executor/cuda/cuda_blas.cc:1515] Unable to register cuBLAS factory: Attempting to register factory for plugin cuBLAS when one has already been registered\n",
      "2023-12-20 17:57:51.874625: I tensorflow/core/platform/cpu_feature_guard.cc:182] This TensorFlow binary is optimized to use available CPU instructions in performance-critical operations.\n",
      "To enable the following instructions: AVX2 FMA, in other operations, rebuild TensorFlow with the appropriate compiler flags.\n",
      "2023-12-20 17:57:52.444387: W tensorflow/compiler/tf2tensorrt/utils/py_utils.cc:38] TF-TRT Warning: Could not find TensorRT\n"
     ]
    }
   ],
   "source": [
    "import pandas as pd\n",
    "import numpy as np\n",
    "import matplotlib.pyplot as plt\n",
    "import seaborn as sns\n",
    "from sklearn.metrics import confusion_matrix\n",
    "from tensorflow.keras.preprocessing.text import Tokenizer\n",
    "from tensorflow.keras.models import Sequential\n",
    "from tensorflow.keras.layers import Embedding, LSTM, Bidirectional, Dropout, Dense, BatchNormalization\n",
    "from sklearn.preprocessing import LabelEncoder\n",
    "from tensorflow.keras.preprocessing.sequence import pad_sequences\n",
    "from keras.utils import to_categorical"
   ]
  },
  {
   "cell_type": "code",
   "execution_count": 2,
   "metadata": {},
   "outputs": [
    {
     "data": {
      "text/html": [
       "<div>\n",
       "<style scoped>\n",
       "    .dataframe tbody tr th:only-of-type {\n",
       "        vertical-align: middle;\n",
       "    }\n",
       "\n",
       "    .dataframe tbody tr th {\n",
       "        vertical-align: top;\n",
       "    }\n",
       "\n",
       "    .dataframe thead th {\n",
       "        text-align: right;\n",
       "    }\n",
       "</style>\n",
       "<table border=\"1\" class=\"dataframe\">\n",
       "  <thead>\n",
       "    <tr style=\"text-align: right;\">\n",
       "      <th></th>\n",
       "      <th>text</th>\n",
       "      <th>label</th>\n",
       "    </tr>\n",
       "  </thead>\n",
       "  <tbody>\n",
       "    <tr>\n",
       "      <th>0</th>\n",
       "      <td>i didnt feel humiliated</td>\n",
       "      <td>sadness</td>\n",
       "    </tr>\n",
       "    <tr>\n",
       "      <th>1</th>\n",
       "      <td>i can go from feeling so hopeless to so damned...</td>\n",
       "      <td>sadness</td>\n",
       "    </tr>\n",
       "    <tr>\n",
       "      <th>2</th>\n",
       "      <td>im grabbing a minute to post i feel greedy wrong</td>\n",
       "      <td>anger</td>\n",
       "    </tr>\n",
       "    <tr>\n",
       "      <th>3</th>\n",
       "      <td>i am ever feeling nostalgic about the fireplac...</td>\n",
       "      <td>love</td>\n",
       "    </tr>\n",
       "    <tr>\n",
       "      <th>4</th>\n",
       "      <td>i am feeling grouchy</td>\n",
       "      <td>anger</td>\n",
       "    </tr>\n",
       "  </tbody>\n",
       "</table>\n",
       "</div>"
      ],
      "text/plain": [
       "                                                text    label\n",
       "0                            i didnt feel humiliated  sadness\n",
       "1  i can go from feeling so hopeless to so damned...  sadness\n",
       "2   im grabbing a minute to post i feel greedy wrong    anger\n",
       "3  i am ever feeling nostalgic about the fireplac...     love\n",
       "4                               i am feeling grouchy    anger"
      ]
     },
     "execution_count": 2,
     "metadata": {},
     "output_type": "execute_result"
    }
   ],
   "source": [
    "train_df = pd.read_csv(\"data/train.txt\", delimiter=';', header=None, names=['text', 'label'])\n",
    "val_df = pd.read_csv(\"data/val.txt\", delimiter=';', header=None, names=['text', 'label'])\n",
    "test_df = pd.read_csv(\"data/test.txt\", delimiter=';', header=None, names=['text', 'label'])\n",
    "\n",
    "train_df.head()"
   ]
  },
  {
   "cell_type": "code",
   "execution_count": 3,
   "metadata": {},
   "outputs": [
    {
     "data": {
      "text/plain": [
       "(16000, 2000, 2000)"
      ]
     },
     "execution_count": 3,
     "metadata": {},
     "output_type": "execute_result"
    }
   ],
   "source": [
    "len(train_df), len(val_df), len(test_df)"
   ]
  },
  {
   "cell_type": "code",
   "execution_count": 4,
   "metadata": {},
   "outputs": [
    {
     "data": {
      "text/plain": [
       "label\n",
       "joy         5362\n",
       "sadness     4666\n",
       "anger       2159\n",
       "fear        1937\n",
       "love        1304\n",
       "surprise     572\n",
       "Name: count, dtype: int64"
      ]
     },
     "execution_count": 4,
     "metadata": {},
     "output_type": "execute_result"
    }
   ],
   "source": [
    "train_df[\"label\"].value_counts()"
   ]
  },
  {
   "cell_type": "code",
   "execution_count": 5,
   "metadata": {},
   "outputs": [
    {
     "data": {
      "text/plain": [
       "label\n",
       "joy         704\n",
       "sadness     550\n",
       "anger       275\n",
       "fear        212\n",
       "love        178\n",
       "surprise     81\n",
       "Name: count, dtype: int64"
      ]
     },
     "execution_count": 5,
     "metadata": {},
     "output_type": "execute_result"
    }
   ],
   "source": [
    "val_df[\"label\"].value_counts()"
   ]
  },
  {
   "cell_type": "code",
   "execution_count": 6,
   "metadata": {},
   "outputs": [
    {
     "data": {
      "text/plain": [
       "label\n",
       "joy         695\n",
       "sadness     581\n",
       "anger       275\n",
       "fear        224\n",
       "love        159\n",
       "surprise     66\n",
       "Name: count, dtype: int64"
      ]
     },
     "execution_count": 6,
     "metadata": {},
     "output_type": "execute_result"
    }
   ],
   "source": [
    "test_df[\"label\"].value_counts()"
   ]
  },
  {
   "cell_type": "code",
   "execution_count": 7,
   "metadata": {},
   "outputs": [
    {
     "data": {
      "text/plain": [
       "label\n",
       "surprise    5362\n",
       "joy         5362\n",
       "sadness     4666\n",
       "anger       2159\n",
       "fear        1937\n",
       "love        1304\n",
       "Name: count, dtype: int64"
      ]
     },
     "execution_count": 7,
     "metadata": {},
     "output_type": "execute_result"
    }
   ],
   "source": [
    "from imblearn.over_sampling import RandomOverSampler\n",
    "\n",
    "\n",
    "# oversample = RandomOverSampler(sampling_strategy='auto')\n",
    "oversample = RandomOverSampler(sampling_strategy='minority')\n",
    "\n",
    "# Применение Oversampling к данным\n",
    "train_text, train_labels = oversample.fit_resample(train_df.drop(columns=['label']), train_df['label'])\n",
    "train_labels.value_counts()"
   ]
  },
  {
   "cell_type": "code",
   "execution_count": 8,
   "metadata": {},
   "outputs": [],
   "source": [
    "val_text = val_df.drop(\"label\", axis=1)\n",
    "val_labels = val_df[\"label\"]\n",
    "test_text = test_df.drop(\"label\", axis=1)\n",
    "test_labels = test_df[\"label\"]\n",
    "\n",
    "train_text = train_text.squeeze()\n",
    "val_text = val_text.squeeze()\n",
    "test_text = test_text.squeeze()\n",
    "\n",
    "# Преобразования текстовых меток классов в числовой формат\n",
    "encoder = LabelEncoder()\n",
    "train_labels = encoder.fit_transform(train_labels)\n",
    "val_labels = encoder.transform(val_labels)\n",
    "test_labels = encoder.transform(test_labels)"
   ]
  },
  {
   "cell_type": "code",
   "execution_count": 9,
   "metadata": {},
   "outputs": [],
   "source": [
    "max_words = 10000\n",
    "max_len = 50\n",
    "embedding_dim = 64\n",
    "\n",
    "\n",
    "tokenizer = Tokenizer(num_words=max_words)\n",
    "tokenizer.fit_on_texts(train_text)\n",
    "                            \n",
    "sequences = tokenizer.texts_to_sequences(train_text)\n",
    "tr_x = pad_sequences(sequences, maxlen=max_len) \n",
    "tr_y = to_categorical(train_labels)\n",
    "\n",
    "sequences = tokenizer.texts_to_sequences(val_text)\n",
    "val_x = pad_sequences(sequences, maxlen=max_len)\n",
    "val_y = to_categorical(val_labels)\n",
    "\n",
    "sequences = tokenizer.texts_to_sequences(test_text)\n",
    "ts_x = pad_sequences(sequences, maxlen=max_len)\n",
    "ts_y = to_categorical(test_labels)"
   ]
  },
  {
   "cell_type": "code",
   "execution_count": 10,
   "metadata": {},
   "outputs": [
    {
     "name": "stderr",
     "output_type": "stream",
     "text": [
      "2023-12-20 17:57:53.452382: I external/local_xla/xla/stream_executor/cuda/cuda_executor.cc:887] could not open file to read NUMA node: /sys/bus/pci/devices/0000:01:00.0/numa_node\n",
      "Your kernel may have been built without NUMA support.\n",
      "2023-12-20 17:57:53.474467: I external/local_xla/xla/stream_executor/cuda/cuda_executor.cc:887] could not open file to read NUMA node: /sys/bus/pci/devices/0000:01:00.0/numa_node\n",
      "Your kernel may have been built without NUMA support.\n",
      "2023-12-20 17:57:53.474520: I external/local_xla/xla/stream_executor/cuda/cuda_executor.cc:887] could not open file to read NUMA node: /sys/bus/pci/devices/0000:01:00.0/numa_node\n",
      "Your kernel may have been built without NUMA support.\n",
      "2023-12-20 17:57:53.477629: I external/local_xla/xla/stream_executor/cuda/cuda_executor.cc:887] could not open file to read NUMA node: /sys/bus/pci/devices/0000:01:00.0/numa_node\n",
      "Your kernel may have been built without NUMA support.\n",
      "2023-12-20 17:57:53.477698: I external/local_xla/xla/stream_executor/cuda/cuda_executor.cc:887] could not open file to read NUMA node: /sys/bus/pci/devices/0000:01:00.0/numa_node\n",
      "Your kernel may have been built without NUMA support.\n",
      "2023-12-20 17:57:53.477717: I external/local_xla/xla/stream_executor/cuda/cuda_executor.cc:887] could not open file to read NUMA node: /sys/bus/pci/devices/0000:01:00.0/numa_node\n",
      "Your kernel may have been built without NUMA support.\n",
      "2023-12-20 17:57:53.606790: I external/local_xla/xla/stream_executor/cuda/cuda_executor.cc:887] could not open file to read NUMA node: /sys/bus/pci/devices/0000:01:00.0/numa_node\n",
      "Your kernel may have been built without NUMA support.\n",
      "2023-12-20 17:57:53.606842: I external/local_xla/xla/stream_executor/cuda/cuda_executor.cc:887] could not open file to read NUMA node: /sys/bus/pci/devices/0000:01:00.0/numa_node\n",
      "Your kernel may have been built without NUMA support.\n",
      "2023-12-20 17:57:53.606847: I tensorflow/core/common_runtime/gpu/gpu_device.cc:2022] Could not identify NUMA node of platform GPU id 0, defaulting to 0.  Your kernel may not have been built with NUMA support.\n",
      "2023-12-20 17:57:53.606874: I external/local_xla/xla/stream_executor/cuda/cuda_executor.cc:887] could not open file to read NUMA node: /sys/bus/pci/devices/0000:01:00.0/numa_node\n",
      "Your kernel may have been built without NUMA support.\n",
      "2023-12-20 17:57:53.606888: I tensorflow/core/common_runtime/gpu/gpu_device.cc:1929] Created device /job:localhost/replica:0/task:0/device:GPU:0 with 5578 MB memory:  -> device: 0, name: NVIDIA GeForce RTX 3070, pci bus id: 0000:01:00.0, compute capability: 8.6\n",
      "2023-12-20 17:57:53.835247: I external/local_tsl/tsl/platform/default/subprocess.cc:304] Start cannot spawn child process: No such file or directory\n"
     ]
    },
    {
     "name": "stdout",
     "output_type": "stream",
     "text": [
      "Epoch 1/7\n"
     ]
    },
    {
     "name": "stderr",
     "output_type": "stream",
     "text": [
      "2023-12-20 17:57:57.168166: I external/local_xla/xla/stream_executor/cuda/cuda_dnn.cc:454] Loaded cuDNN version 8904\n",
      "2023-12-20 17:57:57.588125: I external/local_xla/xla/service/service.cc:168] XLA service 0x7f76330a8020 initialized for platform CUDA (this does not guarantee that XLA will be used). Devices:\n",
      "2023-12-20 17:57:57.588150: I external/local_xla/xla/service/service.cc:176]   StreamExecutor device (0): NVIDIA GeForce RTX 3070, Compute Capability 8.6\n",
      "2023-12-20 17:57:57.591374: I tensorflow/compiler/mlir/tensorflow/utils/dump_mlir_util.cc:269] disabling MLIR crash reproducer, set env var `MLIR_CRASH_REPRODUCER_DIRECTORY` to enable.\n",
      "WARNING: All log messages before absl::InitializeLog() is called are written to STDERR\n",
      "I0000 00:00:1703077077.619271  108897 device_compiler.h:186] Compiled cluster using XLA!  This line is logged at most once for the lifetime of the process.\n"
     ]
    },
    {
     "name": "stdout",
     "output_type": "stream",
     "text": [
      "1300/1300 [==============================] - 29s 19ms/step - loss: 1.1739 - accuracy: 0.5400 - val_loss: 1.0997 - val_accuracy: 0.5970\n",
      "Epoch 2/7\n",
      "1300/1300 [==============================] - 20s 16ms/step - loss: 0.4769 - accuracy: 0.8434 - val_loss: 0.3657 - val_accuracy: 0.8870\n",
      "Epoch 3/7\n",
      "1300/1300 [==============================] - 20s 15ms/step - loss: 0.2444 - accuracy: 0.9239 - val_loss: 0.2668 - val_accuracy: 0.9150\n",
      "Epoch 4/7\n",
      "1300/1300 [==============================] - 20s 15ms/step - loss: 0.1741 - accuracy: 0.9427 - val_loss: 0.2403 - val_accuracy: 0.9170\n",
      "Epoch 5/7\n",
      "1300/1300 [==============================] - 19s 15ms/step - loss: 0.1343 - accuracy: 0.9537 - val_loss: 0.2317 - val_accuracy: 0.9240\n",
      "Epoch 6/7\n",
      "1300/1300 [==============================] - 20s 15ms/step - loss: 0.1177 - accuracy: 0.9595 - val_loss: 0.2151 - val_accuracy: 0.9250\n",
      "Epoch 7/7\n",
      "1300/1300 [==============================] - 19s 15ms/step - loss: 0.0996 - accuracy: 0.9656 - val_loss: 0.2277 - val_accuracy: 0.9310\n",
      "63/63 [==============================] - 1s 8ms/step - loss: 0.2378 - accuracy: 0.9180\n",
      "Test Accuracy: 91.80%\n",
      "Test Loss: 0.2378\n"
     ]
    }
   ],
   "source": [
    "epochs = 7\n",
    "batch_size = 16\n",
    "\n",
    "model = Sequential([\n",
    "    Embedding(input_dim=max_words, output_dim=embedding_dim, input_length=max_len),\n",
    "    Bidirectional(LSTM(units=128, return_sequences=True)), # рекуррентный слой\n",
    "    Dropout(0.3),\n",
    "    Bidirectional(LSTM(units=64)),\n",
    "    Dropout(0.3),\n",
    "    Dense(units=6, activation='softmax')\n",
    "])\n",
    "\n",
    "# model = Sequential([\n",
    "#     Embedding(input_dim=max_words, output_dim=embedding_dim, input_length=max_len),\n",
    "#     Bidirectional(LSTM(units=256, return_sequences=True)), \n",
    "#     Dropout(0.5), \n",
    "#     Bidirectional(LSTM(units=128, return_sequences=True)),  \n",
    "#     Dropout(0.5),\n",
    "#     Bidirectional(LSTM(units=64)), \n",
    "#     Dropout(0.3),  \n",
    "#     BatchNormalization(),  # Добавляем слой BatchNormalization\n",
    "#     Dense(units=6, activation='softmax')\n",
    "# ])\n",
    "\n",
    "# Компиляция модели с выбором оптимизатора, функции потерь и метрики\n",
    "model.compile(optimizer='RMSprop', loss='categorical_crossentropy', metrics=['accuracy'])\n",
    "\n",
    "# Обучение модели на обучающих данных и оценка на валидационных данных\n",
    "history = model.fit(tr_x, tr_y, epochs=epochs, batch_size=batch_size, validation_data=(val_x, val_y))\n",
    "\n",
    "# Оценка производительности модели на тестовых данных\n",
    "test_loss, test_accuracy = model.evaluate(ts_x, ts_y)\n",
    "\n",
    "print(f\"Test Accuracy: {test_accuracy*100:.2f}%\")\n",
    "print(f\"Test Loss: {test_loss:.4f}\")"
   ]
  },
  {
   "cell_type": "code",
   "execution_count": 58,
   "metadata": {},
   "outputs": [
    {
     "name": "stdout",
     "output_type": "stream",
     "text": [
      "63/63 [==============================] - 0s 5ms/step\n"
     ]
    },
    {
     "data": {
      "text/plain": [
       "<Axes: >"
      ]
     },
     "execution_count": 58,
     "metadata": {},
     "output_type": "execute_result"
    },
    {
     "data": {
      "image/png": "[encoded data removed]",
      "text/plain": [
       "<Figure size 800x600 with 2 Axes>"
      ]
     },
     "metadata": {},
     "output_type": "display_data"
    }
   ],
   "source": [
    "y_true=[]\n",
    "for i in range(len(ts_y)):\n",
    "    x = np.argmax(ts_y[i]) \n",
    "    y_true.append(x)\n",
    "    \n",
    "preds = model.predict(ts_x)\n",
    "y_pred = np.argmax(preds, axis=1)\n",
    "\n",
    "plt.figure(figsize=(8,6))\n",
    "emotions = {0: 'anger', 1: 'fear', 2: 'joy', 3:'love', 4:'sadness', 5:'suprise'}\n",
    "emotions = list(emotions.values())\n",
    "cm = confusion_matrix(y_true, y_pred)\n",
    "sns.heatmap(cm, annot=True, fmt='d', cmap='Blues', xticklabels=emotions, yticklabels=emotions)"
   ]
  },
  {
   "cell_type": "code",
   "execution_count": 90,
   "metadata": {},
   "outputs": [
    {
     "name": "stdout",
     "output_type": "stream",
     "text": [
      "1/1 [==============================] - 0s 14ms/step\n",
      "Сообщение: I feel bad\n",
      " Результат: sadness\n"
     ]
    }
   ],
   "source": [
    "def predict(text):        \n",
    "    sequences = tokenizer.texts_to_sequences([text])\n",
    "    x_new = pad_sequences(sequences, maxlen=50)\n",
    "    prediction = model.predict(x_new)[0].tolist()\n",
    "\n",
    "    index = prediction.index(max(prediction))\n",
    "    result = None\n",
    "    if max(prediction) > 0.5:\n",
    "        result = list(encoder.classes_)[index]\n",
    "\n",
    "    print(\"Сообщение: \" + text)\n",
    "    if result:\n",
    "        print(f\" Результат: {result}\")\n",
    "    else:\n",
    "        print(\"Нет результата\")\n",
    "\n",
    "predict(\"I feel bad\")"
   ]
  },
  {
   "cell_type": "code",
   "execution_count": 91,
   "metadata": {},
   "outputs": [
    {
     "name": "stdout",
     "output_type": "stream",
     "text": [
      "1/1 [==============================] - 0s 14ms/step\n",
      "Сообщение: I'm very surprised that you did it, how cool is it\n",
      " Результат: joy\n"
     ]
    }
   ],
   "source": [
    "predict(\"I'm very surprised that you did it, how cool is it\")"
   ]
  },
  {
   "cell_type": "code",
   "execution_count": 94,
   "metadata": {},
   "outputs": [
    {
     "name": "stdout",
     "output_type": "stream",
     "text": [
      "1/1 [==============================] - 0s 16ms/step\n"
     ]
    },
    {
     "name": "stdout",
     "output_type": "stream",
     "text": [
      "Сообщение: I'm going to blow it all up.\n",
      " Результат: anger\n"
     ]
    }
   ],
   "source": [
    "predict(\"I'm going to blow it all up.\")"
   ]
  }
 ],
 "metadata": {
  "kernelspec": {
   "display_name": "tf",
   "language": "python",
   "name": "python3"
  },
  "language_info": {
   "codemirror_mode": {
    "name": "ipython",
    "version": 3
   },
   "file_extension": ".py",
   "mimetype": "text/x-python",
   "name": "python",
   "nbconvert_exporter": "python",
   "pygments_lexer": "ipython3",
   "version": "3.11.5"
  }
 },
 "nbformat": 4,
 "nbformat_minor": 2
}

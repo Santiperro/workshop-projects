{
  "cells": [
    {
      "cell_type": "markdown",
      "metadata": {
        "id": "gQW8YiCQtnPi"
      },
      "source": [
        "# Елисеев Е.В.\n",
        "# Решение Задачи 3 \"Кластеризация физической активности\""
      ]
    },
    {
      "cell_type": "code",
      "execution_count": 1,
      "metadata": {
        "colab": {
          "base_uri": "https://localhost:8080/",
          "height": 300
        },
        "id": "eveGACwA3-pC",
        "outputId": "58d518e7-71bf-41de-a76a-d53348664879"
      },
      "outputs": [
        {
          "data": {
            "text/html": [
              "<div>\n",
              "<style scoped>\n",
              "    .dataframe tbody tr th:only-of-type {\n",
              "        vertical-align: middle;\n",
              "    }\n",
              "\n",
              "    .dataframe tbody tr th {\n",
              "        vertical-align: top;\n",
              "    }\n",
              "\n",
              "    .dataframe thead th {\n",
              "        text-align: right;\n",
              "    }\n",
              "</style>\n",
              "<table border=\"1\" class=\"dataframe\">\n",
              "  <thead>\n",
              "    <tr style=\"text-align: right;\">\n",
              "      <th></th>\n",
              "      <th>timestamp</th>\n",
              "      <th>handTemperature</th>\n",
              "      <th>handAcc16_1</th>\n",
              "      <th>handAcc16_2</th>\n",
              "      <th>handAcc16_3</th>\n",
              "      <th>handAcc6_1</th>\n",
              "      <th>handAcc6_2</th>\n",
              "      <th>handAcc6_3</th>\n",
              "      <th>handGyro1</th>\n",
              "      <th>handGyro2</th>\n",
              "      <th>...</th>\n",
              "      <th>ankleGyro2</th>\n",
              "      <th>ankleGyro3</th>\n",
              "      <th>ankleMagne1</th>\n",
              "      <th>ankleMagne2</th>\n",
              "      <th>ankleMagne3</th>\n",
              "      <th>ankleOrientation1</th>\n",
              "      <th>ankleOrientation2</th>\n",
              "      <th>ankleOrientation3</th>\n",
              "      <th>ankleOrientation4</th>\n",
              "      <th>subject_id</th>\n",
              "    </tr>\n",
              "  </thead>\n",
              "  <tbody>\n",
              "    <tr>\n",
              "      <th>0</th>\n",
              "      <td>252.75</td>\n",
              "      <td>34.8750</td>\n",
              "      <td>0.902847</td>\n",
              "      <td>7.45872</td>\n",
              "      <td>6.032490</td>\n",
              "      <td>1.006100</td>\n",
              "      <td>7.44575</td>\n",
              "      <td>6.303650</td>\n",
              "      <td>-0.021952</td>\n",
              "      <td>0.004114</td>\n",
              "      <td>...</td>\n",
              "      <td>-0.025606</td>\n",
              "      <td>0.030239</td>\n",
              "      <td>-14.5447</td>\n",
              "      <td>27.3336</td>\n",
              "      <td>-5.76620</td>\n",
              "      <td>0.206416</td>\n",
              "      <td>0.348212</td>\n",
              "      <td>0.763201</td>\n",
              "      <td>-0.503652</td>\n",
              "      <td>5</td>\n",
              "    </tr>\n",
              "    <tr>\n",
              "      <th>1</th>\n",
              "      <td>3652.45</td>\n",
              "      <td>29.7500</td>\n",
              "      <td>-4.069330</td>\n",
              "      <td>3.76168</td>\n",
              "      <td>8.279720</td>\n",
              "      <td>-5.972500</td>\n",
              "      <td>3.22273</td>\n",
              "      <td>6.908970</td>\n",
              "      <td>0.116054</td>\n",
              "      <td>-0.375968</td>\n",
              "      <td>...</td>\n",
              "      <td>-0.670163</td>\n",
              "      <td>1.786200</td>\n",
              "      <td>-32.8257</td>\n",
              "      <td>-15.7719</td>\n",
              "      <td>-1.31395</td>\n",
              "      <td>0.578332</td>\n",
              "      <td>-0.566734</td>\n",
              "      <td>0.405888</td>\n",
              "      <td>-0.423791</td>\n",
              "      <td>2</td>\n",
              "    </tr>\n",
              "    <tr>\n",
              "      <th>2</th>\n",
              "      <td>504.76</td>\n",
              "      <td>34.3750</td>\n",
              "      <td>-2.007540</td>\n",
              "      <td>-9.60180</td>\n",
              "      <td>0.773674</td>\n",
              "      <td>-1.803500</td>\n",
              "      <td>-9.58937</td>\n",
              "      <td>1.073680</td>\n",
              "      <td>0.020131</td>\n",
              "      <td>0.042189</td>\n",
              "      <td>...</td>\n",
              "      <td>-0.009741</td>\n",
              "      <td>-0.006579</td>\n",
              "      <td>-18.8171</td>\n",
              "      <td>16.3089</td>\n",
              "      <td>25.29280</td>\n",
              "      <td>0.139776</td>\n",
              "      <td>0.676586</td>\n",
              "      <td>0.393796</td>\n",
              "      <td>0.606316</td>\n",
              "      <td>8</td>\n",
              "    </tr>\n",
              "    <tr>\n",
              "      <th>3</th>\n",
              "      <td>2801.61</td>\n",
              "      <td>31.9375</td>\n",
              "      <td>-13.262200</td>\n",
              "      <td>5.85443</td>\n",
              "      <td>0.899334</td>\n",
              "      <td>-13.611500</td>\n",
              "      <td>5.91511</td>\n",
              "      <td>0.840377</td>\n",
              "      <td>1.715630</td>\n",
              "      <td>-0.050492</td>\n",
              "      <td>...</td>\n",
              "      <td>-0.163470</td>\n",
              "      <td>-3.495570</td>\n",
              "      <td>-26.7418</td>\n",
              "      <td>34.3566</td>\n",
              "      <td>21.32740</td>\n",
              "      <td>0.416303</td>\n",
              "      <td>0.783387</td>\n",
              "      <td>0.306464</td>\n",
              "      <td>0.345075</td>\n",
              "      <td>2</td>\n",
              "    </tr>\n",
              "    <tr>\n",
              "      <th>4</th>\n",
              "      <td>441.01</td>\n",
              "      <td>33.5000</td>\n",
              "      <td>-0.013940</td>\n",
              "      <td>8.66540</td>\n",
              "      <td>4.398210</td>\n",
              "      <td>0.144153</td>\n",
              "      <td>8.56816</td>\n",
              "      <td>4.822200</td>\n",
              "      <td>-0.006938</td>\n",
              "      <td>-0.007383</td>\n",
              "      <td>...</td>\n",
              "      <td>-0.028172</td>\n",
              "      <td>-0.003737</td>\n",
              "      <td>-17.7798</td>\n",
              "      <td>-3.9981</td>\n",
              "      <td>10.99500</td>\n",
              "      <td>0.171133</td>\n",
              "      <td>-0.748343</td>\n",
              "      <td>0.252988</td>\n",
              "      <td>-0.588807</td>\n",
              "      <td>6</td>\n",
              "    </tr>\n",
              "  </tbody>\n",
              "</table>\n",
              "<p>5 rows × 53 columns</p>\n",
              "</div>"
            ],
            "text/plain": [
              "   timestamp  handTemperature  handAcc16_1  handAcc16_2  handAcc16_3  \\\n",
              "0     252.75          34.8750     0.902847      7.45872     6.032490   \n",
              "1    3652.45          29.7500    -4.069330      3.76168     8.279720   \n",
              "2     504.76          34.3750    -2.007540     -9.60180     0.773674   \n",
              "3    2801.61          31.9375   -13.262200      5.85443     0.899334   \n",
              "4     441.01          33.5000    -0.013940      8.66540     4.398210   \n",
              "\n",
              "   handAcc6_1  handAcc6_2  handAcc6_3  handGyro1  handGyro2  ...  ankleGyro2  \\\n",
              "0    1.006100     7.44575    6.303650  -0.021952   0.004114  ...   -0.025606   \n",
              "1   -5.972500     3.22273    6.908970   0.116054  -0.375968  ...   -0.670163   \n",
              "2   -1.803500    -9.58937    1.073680   0.020131   0.042189  ...   -0.009741   \n",
              "3  -13.611500     5.91511    0.840377   1.715630  -0.050492  ...   -0.163470   \n",
              "4    0.144153     8.56816    4.822200  -0.006938  -0.007383  ...   -0.028172   \n",
              "\n",
              "   ankleGyro3  ankleMagne1  ankleMagne2  ankleMagne3  ankleOrientation1  \\\n",
              "0    0.030239     -14.5447      27.3336     -5.76620           0.206416   \n",
              "1    1.786200     -32.8257     -15.7719     -1.31395           0.578332   \n",
              "2   -0.006579     -18.8171      16.3089     25.29280           0.139776   \n",
              "3   -3.495570     -26.7418      34.3566     21.32740           0.416303   \n",
              "4   -0.003737     -17.7798      -3.9981     10.99500           0.171133   \n",
              "\n",
              "   ankleOrientation2  ankleOrientation3  ankleOrientation4  subject_id  \n",
              "0           0.348212           0.763201          -0.503652           5  \n",
              "1          -0.566734           0.405888          -0.423791           2  \n",
              "2           0.676586           0.393796           0.606316           8  \n",
              "3           0.783387           0.306464           0.345075           2  \n",
              "4          -0.748343           0.252988          -0.588807           6  \n",
              "\n",
              "[5 rows x 53 columns]"
            ]
          },
          "execution_count": 1,
          "metadata": {},
          "output_type": "execute_result"
        }
      ],
      "source": [
        "import pandas as pd\n",
        "import seaborn as sns\n",
        "import matplotlib.pyplot as plt\n",
        "\n",
        "\n",
        "df = pd.read_csv(\"data/Physical_Activity_Monitoring_unlabeled.csv.zip\")\n",
        "df.head()"
      ]
    },
    {
      "cell_type": "code",
      "execution_count": 2,
      "metadata": {
        "colab": {
          "base_uri": "https://localhost:8080/"
        },
        "id": "uGJULCfUirDm",
        "outputId": "d04105d4-0364-4a46-889f-8f6618f5868d"
      },
      "outputs": [
        {
          "data": {
            "text/plain": [
              "Index(['timestamp', 'handTemperature', 'handAcc16_1', 'handAcc16_2',\n",
              "       'handAcc16_3', 'handAcc6_1', 'handAcc6_2', 'handAcc6_3', 'handGyro1',\n",
              "       'handGyro2', 'handGyro3', 'handMagne1', 'handMagne2', 'handMagne3',\n",
              "       'handOrientation1', 'handOrientation2', 'handOrientation3',\n",
              "       'handOrientation4', 'chestTemperature', 'chestAcc16_1', 'chestAcc16_2',\n",
              "       'chestAcc16_3', 'chestAcc6_1', 'chestAcc6_2', 'chestAcc6_3',\n",
              "       'chestGyro1', 'chestGyro2', 'chestGyro3', 'chestMagne1', 'chestMagne2',\n",
              "       'chestMagne3', 'chestOrientation1', 'chestOrientation2',\n",
              "       'chestOrientation3', 'chestOrientation4', 'ankleTemperature',\n",
              "       'ankleAcc16_1', 'ankleAcc16_2', 'ankleAcc16_3', 'ankleAcc6_1',\n",
              "       'ankleAcc6_2', 'ankleAcc6_3', 'ankleGyro1', 'ankleGyro2', 'ankleGyro3',\n",
              "       'ankleMagne1', 'ankleMagne2', 'ankleMagne3', 'ankleOrientation1',\n",
              "       'ankleOrientation2', 'ankleOrientation3', 'ankleOrientation4',\n",
              "       'subject_id'],\n",
              "      dtype='object')"
            ]
          },
          "execution_count": 2,
          "metadata": {},
          "output_type": "execute_result"
        }
      ],
      "source": [
        "df.columns"
      ]
    },
    {
      "cell_type": "markdown",
      "metadata": {
        "id": "KxOJi2O1BzPZ"
      },
      "source": [
        "## Исследование данных"
      ]
    },
    {
      "cell_type": "code",
      "execution_count": 3,
      "metadata": {
        "colab": {
          "base_uri": "https://localhost:8080/"
        },
        "id": "3wrEXXL74F80",
        "outputId": "e51098a8-3e1a-43ac-a452-0b9f2c4d26ac"
      },
      "outputs": [
        {
          "data": {
            "text/plain": [
              "(534601, 53)"
            ]
          },
          "execution_count": 3,
          "metadata": {},
          "output_type": "execute_result"
        }
      ],
      "source": [
        "df.shape"
      ]
    },
    {
      "cell_type": "code",
      "execution_count": 4,
      "metadata": {
        "colab": {
          "base_uri": "https://localhost:8080/",
          "height": 748
        },
        "id": "HN-r7jIz4JnW",
        "outputId": "b3fd6e27-4a57-4ce4-962f-19f05534f978"
      },
      "outputs": [
        {
          "data": {
            "image/png": "[encoded data removed]",
            "text/plain": [
              "<Figure size 1500x1000 with 2 Axes>"
            ]
          },
          "metadata": {},
          "output_type": "display_data"
        }
      ],
      "source": [
        "from pandas.plotting import scatter_matrix\n",
        "import seaborn as sns\n",
        "import numpy as np\n",
        "\n",
        "df_corr = df.corr()\n",
        "\n",
        "f, ax = plt.subplots(figsize=(15, 10))\n",
        "sns.heatmap(df_corr, mask=np.zeros_like(df_corr, dtype=np.bool_), cmap = \"BrBG\",ax=ax)\n",
        "plt.show()"
      ]
    },
    {
      "cell_type": "code",
      "execution_count": 5,
      "metadata": {},
      "outputs": [
        {
          "data": {
            "text/html": [
              "<div>\n",
              "<style scoped>\n",
              "    .dataframe tbody tr th:only-of-type {\n",
              "        vertical-align: middle;\n",
              "    }\n",
              "\n",
              "    .dataframe tbody tr th {\n",
              "        vertical-align: top;\n",
              "    }\n",
              "\n",
              "    .dataframe thead th {\n",
              "        text-align: right;\n",
              "    }\n",
              "</style>\n",
              "<table border=\"1\" class=\"dataframe\">\n",
              "  <thead>\n",
              "    <tr style=\"text-align: right;\">\n",
              "      <th></th>\n",
              "      <th>Feature 1</th>\n",
              "      <th>Feature 2</th>\n",
              "      <th>Correlation</th>\n",
              "    </tr>\n",
              "  </thead>\n",
              "  <tbody>\n",
              "    <tr>\n",
              "      <th>0</th>\n",
              "      <td>chestAcc16_3</td>\n",
              "      <td>chestAcc6_3</td>\n",
              "      <td>0.991006</td>\n",
              "    </tr>\n",
              "    <tr>\n",
              "      <th>1</th>\n",
              "      <td>chestAcc16_2</td>\n",
              "      <td>chestAcc6_2</td>\n",
              "      <td>0.984728</td>\n",
              "    </tr>\n",
              "    <tr>\n",
              "      <th>2</th>\n",
              "      <td>handAcc16_1</td>\n",
              "      <td>handAcc6_1</td>\n",
              "      <td>0.981441</td>\n",
              "    </tr>\n",
              "    <tr>\n",
              "      <th>3</th>\n",
              "      <td>handAcc16_3</td>\n",
              "      <td>handAcc6_3</td>\n",
              "      <td>0.972072</td>\n",
              "    </tr>\n",
              "    <tr>\n",
              "      <th>4</th>\n",
              "      <td>handAcc16_2</td>\n",
              "      <td>handAcc6_2</td>\n",
              "      <td>0.964042</td>\n",
              "    </tr>\n",
              "    <tr>\n",
              "      <th>...</th>\n",
              "      <td>...</td>\n",
              "      <td>...</td>\n",
              "      <td>...</td>\n",
              "    </tr>\n",
              "    <tr>\n",
              "      <th>1373</th>\n",
              "      <td>handOrientation2</td>\n",
              "      <td>handOrientation4</td>\n",
              "      <td>-0.627468</td>\n",
              "    </tr>\n",
              "    <tr>\n",
              "      <th>1374</th>\n",
              "      <td>timestamp</td>\n",
              "      <td>chestAcc16_3</td>\n",
              "      <td>-0.683643</td>\n",
              "    </tr>\n",
              "    <tr>\n",
              "      <th>1375</th>\n",
              "      <td>timestamp</td>\n",
              "      <td>chestAcc6_3</td>\n",
              "      <td>-0.686142</td>\n",
              "    </tr>\n",
              "    <tr>\n",
              "      <th>1376</th>\n",
              "      <td>chestAcc16_3</td>\n",
              "      <td>chestMagne3</td>\n",
              "      <td>-0.766114</td>\n",
              "    </tr>\n",
              "    <tr>\n",
              "      <th>1377</th>\n",
              "      <td>chestAcc6_3</td>\n",
              "      <td>chestMagne3</td>\n",
              "      <td>-0.766980</td>\n",
              "    </tr>\n",
              "  </tbody>\n",
              "</table>\n",
              "<p>1378 rows × 3 columns</p>\n",
              "</div>"
            ],
            "text/plain": [
              "             Feature 1         Feature 2  Correlation\n",
              "0         chestAcc16_3       chestAcc6_3     0.991006\n",
              "1         chestAcc16_2       chestAcc6_2     0.984728\n",
              "2          handAcc16_1        handAcc6_1     0.981441\n",
              "3          handAcc16_3        handAcc6_3     0.972072\n",
              "4          handAcc16_2        handAcc6_2     0.964042\n",
              "...                ...               ...          ...\n",
              "1373  handOrientation2  handOrientation4    -0.627468\n",
              "1374         timestamp      chestAcc16_3    -0.683643\n",
              "1375         timestamp       chestAcc6_3    -0.686142\n",
              "1376      chestAcc16_3       chestMagne3    -0.766114\n",
              "1377       chestAcc6_3       chestMagne3    -0.766980\n",
              "\n",
              "[1378 rows x 3 columns]"
            ]
          },
          "execution_count": 5,
          "metadata": {},
          "output_type": "execute_result"
        }
      ],
      "source": [
        "correlated_couples = (df_corr.where(np.triu(np.ones(df_corr.shape), k=1).astype(bool))\n",
        "                                .stack()\n",
        "                                .sort_values(ascending=False)\n",
        "                                .reset_index())\n",
        "correlated_couples.columns = ['Feature 1', 'Feature 2', 'Correlation']\n",
        "correlated_couples"
      ]
    },
    {
      "cell_type": "code",
      "execution_count": 6,
      "metadata": {},
      "outputs": [
        {
          "data": {
            "text/html": [
              "<div>\n",
              "<style scoped>\n",
              "    .dataframe tbody tr th:only-of-type {\n",
              "        vertical-align: middle;\n",
              "    }\n",
              "\n",
              "    .dataframe tbody tr th {\n",
              "        vertical-align: top;\n",
              "    }\n",
              "\n",
              "    .dataframe thead th {\n",
              "        text-align: right;\n",
              "    }\n",
              "</style>\n",
              "<table border=\"1\" class=\"dataframe\">\n",
              "  <thead>\n",
              "    <tr style=\"text-align: right;\">\n",
              "      <th></th>\n",
              "      <th>Feature 1</th>\n",
              "      <th>Feature 2</th>\n",
              "      <th>Correlation</th>\n",
              "    </tr>\n",
              "  </thead>\n",
              "  <tbody>\n",
              "    <tr>\n",
              "      <th>0</th>\n",
              "      <td>chestAcc16_3</td>\n",
              "      <td>chestAcc6_3</td>\n",
              "      <td>0.991006</td>\n",
              "    </tr>\n",
              "    <tr>\n",
              "      <th>1</th>\n",
              "      <td>chestAcc16_2</td>\n",
              "      <td>chestAcc6_2</td>\n",
              "      <td>0.984728</td>\n",
              "    </tr>\n",
              "    <tr>\n",
              "      <th>2</th>\n",
              "      <td>handAcc16_1</td>\n",
              "      <td>handAcc6_1</td>\n",
              "      <td>0.981441</td>\n",
              "    </tr>\n",
              "    <tr>\n",
              "      <th>3</th>\n",
              "      <td>handAcc16_3</td>\n",
              "      <td>handAcc6_3</td>\n",
              "      <td>0.972072</td>\n",
              "    </tr>\n",
              "    <tr>\n",
              "      <th>4</th>\n",
              "      <td>handAcc16_2</td>\n",
              "      <td>handAcc6_2</td>\n",
              "      <td>0.964042</td>\n",
              "    </tr>\n",
              "    <tr>\n",
              "      <th>...</th>\n",
              "      <td>...</td>\n",
              "      <td>...</td>\n",
              "      <td>...</td>\n",
              "    </tr>\n",
              "    <tr>\n",
              "      <th>1373</th>\n",
              "      <td>handOrientation2</td>\n",
              "      <td>handOrientation4</td>\n",
              "      <td>-0.627468</td>\n",
              "    </tr>\n",
              "    <tr>\n",
              "      <th>1374</th>\n",
              "      <td>timestamp</td>\n",
              "      <td>chestAcc16_3</td>\n",
              "      <td>-0.683643</td>\n",
              "    </tr>\n",
              "    <tr>\n",
              "      <th>1375</th>\n",
              "      <td>timestamp</td>\n",
              "      <td>chestAcc6_3</td>\n",
              "      <td>-0.686142</td>\n",
              "    </tr>\n",
              "    <tr>\n",
              "      <th>1376</th>\n",
              "      <td>chestAcc16_3</td>\n",
              "      <td>chestMagne3</td>\n",
              "      <td>-0.766114</td>\n",
              "    </tr>\n",
              "    <tr>\n",
              "      <th>1377</th>\n",
              "      <td>chestAcc6_3</td>\n",
              "      <td>chestMagne3</td>\n",
              "      <td>-0.766980</td>\n",
              "    </tr>\n",
              "  </tbody>\n",
              "</table>\n",
              "<p>1378 rows × 3 columns</p>\n",
              "</div>"
            ],
            "text/plain": [
              "             Feature 1         Feature 2  Correlation\n",
              "0         chestAcc16_3       chestAcc6_3     0.991006\n",
              "1         chestAcc16_2       chestAcc6_2     0.984728\n",
              "2          handAcc16_1        handAcc6_1     0.981441\n",
              "3          handAcc16_3        handAcc6_3     0.972072\n",
              "4          handAcc16_2        handAcc6_2     0.964042\n",
              "...                ...               ...          ...\n",
              "1373  handOrientation2  handOrientation4    -0.627468\n",
              "1374         timestamp      chestAcc16_3    -0.683643\n",
              "1375         timestamp       chestAcc6_3    -0.686142\n",
              "1376      chestAcc16_3       chestMagne3    -0.766114\n",
              "1377       chestAcc6_3       chestMagne3    -0.766980\n",
              "\n",
              "[1378 rows x 3 columns]"
            ]
          },
          "execution_count": 6,
          "metadata": {},
          "output_type": "execute_result"
        }
      ],
      "source": [
        "correlated_couples"
      ]
    },
    {
      "cell_type": "code",
      "execution_count": 7,
      "metadata": {},
      "outputs": [
        {
          "data": {
            "text/plain": [
              "0             chestAcc6_3\n",
              "1             chestAcc6_2\n",
              "2              handAcc6_1\n",
              "3              handAcc6_3\n",
              "4              handAcc6_2\n",
              "5             chestAcc6_1\n",
              "6       chestOrientation4\n",
              "7             ankleAcc6_2\n",
              "8             ankleAcc6_1\n",
              "9       ankleOrientation4\n",
              "1376          chestMagne3\n",
              "1377          chestMagne3\n",
              "Name: Feature 2, dtype: object"
            ]
          },
          "execution_count": 7,
          "metadata": {},
          "output_type": "execute_result"
        }
      ],
      "source": [
        "# Выберем сильно коррелирующие столбцы\n",
        "correlated_columns = correlated_couples[abs(correlated_couples[\"Correlation\"]) >= 0.75][\"Feature 2\"]\n",
        "correlated_columns\n"
      ]
    },
    {
      "cell_type": "code",
      "execution_count": 8,
      "metadata": {},
      "outputs": [],
      "source": [
        "# Можно заполнить средним значением в каждой группе всех кор столбцов, но тут просто удалим\n",
        "\n",
        "# df.drop(columns=[\"chestAcc6_3\", \"chestAcc6_2\", \"handAcc6_1\", \"handAcc6_3\", \"handAcc6_2\", \"chestAcc6_1\", \"chestOrientation4\", \"ankleOrientation4\", \"chestMagne3\"], inplace=True)\n",
        "# df"
      ]
    },
    {
      "cell_type": "code",
      "execution_count": 9,
      "metadata": {
        "colab": {
          "base_uri": "https://localhost:8080/"
        },
        "id": "4jqCpU-O4MIS",
        "outputId": "0f27b24d-457d-4725-c846-caeae2ade714"
      },
      "outputs": [
        {
          "data": {
            "text/plain": [
              "timestamp               0\n",
              "handTemperature      4041\n",
              "handAcc16_1          4041\n",
              "handAcc16_2          4041\n",
              "handAcc16_3          4041\n",
              "handAcc6_1           4041\n",
              "handAcc6_2           4041\n",
              "handAcc6_3           4041\n",
              "handGyro1            4041\n",
              "handGyro2            4041\n",
              "handGyro3            4041\n",
              "handMagne1           4041\n",
              "handMagne2           4041\n",
              "handMagne3           4041\n",
              "handOrientation1     4041\n",
              "handOrientation2     4041\n",
              "handOrientation3     4041\n",
              "handOrientation4     4041\n",
              "chestTemperature      809\n",
              "chestAcc16_1          809\n",
              "chestAcc16_2          809\n",
              "chestAcc16_3          809\n",
              "chestAcc6_1           809\n",
              "chestAcc6_2           809\n",
              "chestAcc6_3           809\n",
              "chestGyro1            809\n",
              "chestGyro2            809\n",
              "chestGyro3            809\n",
              "chestMagne1           809\n",
              "chestMagne2           809\n",
              "chestMagne3           809\n",
              "chestOrientation1     809\n",
              "chestOrientation2     809\n",
              "chestOrientation3     809\n",
              "chestOrientation4     809\n",
              "ankleTemperature     2546\n",
              "ankleAcc16_1         2546\n",
              "ankleAcc16_2         2546\n",
              "ankleAcc16_3         2546\n",
              "ankleAcc6_1          2546\n",
              "ankleAcc6_2          2546\n",
              "ankleAcc6_3          2546\n",
              "ankleGyro1           2546\n",
              "ankleGyro2           2546\n",
              "ankleGyro3           2546\n",
              "ankleMagne1          2546\n",
              "ankleMagne2          2546\n",
              "ankleMagne3          2546\n",
              "ankleOrientation1    2546\n",
              "ankleOrientation2    2546\n",
              "ankleOrientation3    2546\n",
              "ankleOrientation4    2546\n",
              "subject_id              0\n",
              "dtype: int64"
            ]
          },
          "execution_count": 9,
          "metadata": {},
          "output_type": "execute_result"
        }
      ],
      "source": [
        "df.isna().sum()"
      ]
    },
    {
      "cell_type": "code",
      "execution_count": 10,
      "metadata": {
        "colab": {
          "base_uri": "https://localhost:8080/",
          "height": 619
        },
        "id": "btwUzC3QHmb2",
        "outputId": "6b22a459-5ec0-47f4-a22c-4f56de197365"
      },
      "outputs": [],
      "source": [
        "# plt.figure(figsize=(10,10))\n",
        "# sns.heatmap(df.isna().transpose(),\n",
        "#             cmap=\"YlGnBu\",\n",
        "#             cbar_kws={'label': 'Missing Data'})\n",
        "\n",
        "# plt.savefig(\"visualizing_missing_data_with_heatmap_Seaborn_Python.png\", dpi=100)"
      ]
    },
    {
      "cell_type": "code",
      "execution_count": 11,
      "metadata": {
        "colab": {
          "base_uri": "https://localhost:8080/"
        },
        "id": "I8OIAuu74dfN",
        "outputId": "6f51fe08-5d80-4397-ba6b-0b5856d7d3b4"
      },
      "outputs": [],
      "source": [
        "# Можно заполнить через метод ближайших соседей (долго)\n",
        "# from sklearn.impute import KNNImputer\n",
        "\n",
        "\n",
        "# imputer = KNNImputer(n_neighbors=25)\n",
        "# imputer.fit_transform(df)"
      ]
    },
    {
      "cell_type": "code",
      "execution_count": 12,
      "metadata": {},
      "outputs": [
        {
          "data": {
            "text/plain": [
              "0"
            ]
          },
          "execution_count": 12,
          "metadata": {},
          "output_type": "execute_result"
        }
      ],
      "source": [
        "# Заполним методом интерполяции\n",
        "\n",
        "df = df.interpolate()\n",
        "df.isna().sum().sum()"
      ]
    },
    {
      "cell_type": "markdown",
      "metadata": {},
      "source": [
        "## Масштабирукм данные"
      ]
    },
    {
      "cell_type": "code",
      "execution_count": 13,
      "metadata": {},
      "outputs": [
        {
          "data": {
            "text/html": [
              "<div>\n",
              "<style scoped>\n",
              "    .dataframe tbody tr th:only-of-type {\n",
              "        vertical-align: middle;\n",
              "    }\n",
              "\n",
              "    .dataframe tbody tr th {\n",
              "        vertical-align: top;\n",
              "    }\n",
              "\n",
              "    .dataframe thead th {\n",
              "        text-align: right;\n",
              "    }\n",
              "</style>\n",
              "<table border=\"1\" class=\"dataframe\">\n",
              "  <thead>\n",
              "    <tr style=\"text-align: right;\">\n",
              "      <th></th>\n",
              "      <th>timestamp</th>\n",
              "      <th>handTemperature</th>\n",
              "      <th>handAcc16_1</th>\n",
              "      <th>handAcc16_2</th>\n",
              "      <th>handAcc16_3</th>\n",
              "      <th>handAcc6_1</th>\n",
              "      <th>handAcc6_2</th>\n",
              "      <th>handAcc6_3</th>\n",
              "      <th>handGyro1</th>\n",
              "      <th>handGyro2</th>\n",
              "      <th>...</th>\n",
              "      <th>ankleGyro2</th>\n",
              "      <th>ankleGyro3</th>\n",
              "      <th>ankleMagne1</th>\n",
              "      <th>ankleMagne2</th>\n",
              "      <th>ankleMagne3</th>\n",
              "      <th>ankleOrientation1</th>\n",
              "      <th>ankleOrientation2</th>\n",
              "      <th>ankleOrientation3</th>\n",
              "      <th>ankleOrientation4</th>\n",
              "      <th>subject_id</th>\n",
              "    </tr>\n",
              "  </thead>\n",
              "  <tbody>\n",
              "    <tr>\n",
              "      <th>0</th>\n",
              "      <td>-1.077886</td>\n",
              "      <td>1.383760</td>\n",
              "      <td>0.757231</td>\n",
              "      <td>0.584776</td>\n",
              "      <td>0.510664</td>\n",
              "      <td>0.762694</td>\n",
              "      <td>0.616920</td>\n",
              "      <td>0.534955</td>\n",
              "      <td>-0.011434</td>\n",
              "      <td>-0.026646</td>\n",
              "      <td>...</td>\n",
              "      <td>0.010026</td>\n",
              "      <td>0.013753</td>\n",
              "      <td>0.737136</td>\n",
              "      <td>1.134555</td>\n",
              "      <td>-1.145553</td>\n",
              "      <td>-0.510941</td>\n",
              "      <td>0.786246</td>\n",
              "      <td>1.336797</td>\n",
              "      <td>-0.708140</td>\n",
              "      <td>0.190410</td>\n",
              "    </tr>\n",
              "    <tr>\n",
              "      <th>1</th>\n",
              "      <td>1.655200</td>\n",
              "      <td>-1.542161</td>\n",
              "      <td>0.051790</td>\n",
              "      <td>0.072016</td>\n",
              "      <td>1.098267</td>\n",
              "      <td>-0.226447</td>\n",
              "      <td>0.000586</td>\n",
              "      <td>0.693620</td>\n",
              "      <td>0.107743</td>\n",
              "      <td>-0.437495</td>\n",
              "      <td>...</td>\n",
              "      <td>-1.032808</td>\n",
              "      <td>0.877262</td>\n",
              "      <td>-0.210992</td>\n",
              "      <td>-0.804863</td>\n",
              "      <td>-0.896624</td>\n",
              "      <td>0.725106</td>\n",
              "      <td>-0.851330</td>\n",
              "      <td>0.297695</td>\n",
              "      <td>-0.536677</td>\n",
              "      <td>-1.103768</td>\n",
              "    </tr>\n",
              "    <tr>\n",
              "      <th>2</th>\n",
              "      <td>-0.875290</td>\n",
              "      <td>1.098304</td>\n",
              "      <td>0.344312</td>\n",
              "      <td>-1.781430</td>\n",
              "      <td>-0.864405</td>\n",
              "      <td>0.364464</td>\n",
              "      <td>-1.869295</td>\n",
              "      <td>-0.835905</td>\n",
              "      <td>0.024908</td>\n",
              "      <td>0.014511</td>\n",
              "      <td>...</td>\n",
              "      <td>0.035695</td>\n",
              "      <td>-0.004352</td>\n",
              "      <td>0.515551</td>\n",
              "      <td>0.638528</td>\n",
              "      <td>0.590981</td>\n",
              "      <td>-0.732416</td>\n",
              "      <td>1.373972</td>\n",
              "      <td>0.262530</td>\n",
              "      <td>1.674988</td>\n",
              "      <td>1.484589</td>\n",
              "    </tr>\n",
              "    <tr>\n",
              "      <th>3</th>\n",
              "      <td>0.971193</td>\n",
              "      <td>-0.293292</td>\n",
              "      <td>-1.252472</td>\n",
              "      <td>0.362269</td>\n",
              "      <td>-0.831548</td>\n",
              "      <td>-1.309192</td>\n",
              "      <td>0.393529</td>\n",
              "      <td>-0.897058</td>\n",
              "      <td>1.489085</td>\n",
              "      <td>-0.085672</td>\n",
              "      <td>...</td>\n",
              "      <td>-0.213025</td>\n",
              "      <td>-1.720091</td>\n",
              "      <td>0.104544</td>\n",
              "      <td>1.450536</td>\n",
              "      <td>0.369273</td>\n",
              "      <td>0.186609</td>\n",
              "      <td>1.565125</td>\n",
              "      <td>0.008559</td>\n",
              "      <td>1.114097</td>\n",
              "      <td>-1.103768</td>\n",
              "    </tr>\n",
              "    <tr>\n",
              "      <th>4</th>\n",
              "      <td>-0.926540</td>\n",
              "      <td>0.598757</td>\n",
              "      <td>0.627159</td>\n",
              "      <td>0.752136</td>\n",
              "      <td>0.083334</td>\n",
              "      <td>0.640523</td>\n",
              "      <td>0.780732</td>\n",
              "      <td>0.146643</td>\n",
              "      <td>0.001532</td>\n",
              "      <td>-0.039074</td>\n",
              "      <td>...</td>\n",
              "      <td>0.005874</td>\n",
              "      <td>-0.002954</td>\n",
              "      <td>0.569350</td>\n",
              "      <td>-0.275132</td>\n",
              "      <td>-0.208420</td>\n",
              "      <td>-0.628202</td>\n",
              "      <td>-1.176374</td>\n",
              "      <td>-0.146954</td>\n",
              "      <td>-0.890970</td>\n",
              "      <td>0.621803</td>\n",
              "    </tr>\n",
              "    <tr>\n",
              "      <th>...</th>\n",
              "      <td>...</td>\n",
              "      <td>...</td>\n",
              "      <td>...</td>\n",
              "      <td>...</td>\n",
              "      <td>...</td>\n",
              "      <td>...</td>\n",
              "      <td>...</td>\n",
              "      <td>...</td>\n",
              "      <td>...</td>\n",
              "      <td>...</td>\n",
              "      <td>...</td>\n",
              "      <td>...</td>\n",
              "      <td>...</td>\n",
              "      <td>...</td>\n",
              "      <td>...</td>\n",
              "      <td>...</td>\n",
              "      <td>...</td>\n",
              "      <td>...</td>\n",
              "      <td>...</td>\n",
              "      <td>...</td>\n",
              "      <td>...</td>\n",
              "    </tr>\n",
              "    <tr>\n",
              "      <th>534596</th>\n",
              "      <td>1.516186</td>\n",
              "      <td>0.812849</td>\n",
              "      <td>-0.659715</td>\n",
              "      <td>0.202325</td>\n",
              "      <td>-0.310987</td>\n",
              "      <td>-0.753307</td>\n",
              "      <td>0.519869</td>\n",
              "      <td>-0.075309</td>\n",
              "      <td>-0.128408</td>\n",
              "      <td>0.805766</td>\n",
              "      <td>...</td>\n",
              "      <td>0.738288</td>\n",
              "      <td>-0.422473</td>\n",
              "      <td>0.194368</td>\n",
              "      <td>-1.155074</td>\n",
              "      <td>0.497191</td>\n",
              "      <td>-0.139528</td>\n",
              "      <td>-1.093288</td>\n",
              "      <td>0.733590</td>\n",
              "      <td>-0.296111</td>\n",
              "      <td>0.190410</td>\n",
              "    </tr>\n",
              "    <tr>\n",
              "      <th>534597</th>\n",
              "      <td>0.687313</td>\n",
              "      <td>1.044781</td>\n",
              "      <td>-0.466995</td>\n",
              "      <td>0.037284</td>\n",
              "      <td>-0.400220</td>\n",
              "      <td>-0.517513</td>\n",
              "      <td>0.195118</td>\n",
              "      <td>-0.254573</td>\n",
              "      <td>0.028656</td>\n",
              "      <td>0.193082</td>\n",
              "      <td>...</td>\n",
              "      <td>-2.808538</td>\n",
              "      <td>-1.501461</td>\n",
              "      <td>-0.360189</td>\n",
              "      <td>1.335589</td>\n",
              "      <td>0.094996</td>\n",
              "      <td>0.251696</td>\n",
              "      <td>1.345437</td>\n",
              "      <td>0.198171</td>\n",
              "      <td>1.414949</td>\n",
              "      <td>0.190410</td>\n",
              "    </tr>\n",
              "    <tr>\n",
              "      <th>534598</th>\n",
              "      <td>0.712516</td>\n",
              "      <td>1.276714</td>\n",
              "      <td>-0.274276</td>\n",
              "      <td>-0.127756</td>\n",
              "      <td>-0.489454</td>\n",
              "      <td>-0.281719</td>\n",
              "      <td>-0.129634</td>\n",
              "      <td>-0.433837</td>\n",
              "      <td>0.185719</td>\n",
              "      <td>-0.419602</td>\n",
              "      <td>...</td>\n",
              "      <td>-0.003788</td>\n",
              "      <td>-0.198810</td>\n",
              "      <td>-1.085757</td>\n",
              "      <td>0.831770</td>\n",
              "      <td>-0.874481</td>\n",
              "      <td>0.669670</td>\n",
              "      <td>0.696299</td>\n",
              "      <td>1.318086</td>\n",
              "      <td>0.699344</td>\n",
              "      <td>0.190410</td>\n",
              "    </tr>\n",
              "    <tr>\n",
              "      <th>534599</th>\n",
              "      <td>1.482655</td>\n",
              "      <td>-2.505574</td>\n",
              "      <td>1.404064</td>\n",
              "      <td>0.997765</td>\n",
              "      <td>-3.439181</td>\n",
              "      <td>1.803451</td>\n",
              "      <td>0.371647</td>\n",
              "      <td>-2.727570</td>\n",
              "      <td>3.067928</td>\n",
              "      <td>2.949408</td>\n",
              "      <td>...</td>\n",
              "      <td>0.621058</td>\n",
              "      <td>-2.744020</td>\n",
              "      <td>-0.279940</td>\n",
              "      <td>-0.593700</td>\n",
              "      <td>1.398596</td>\n",
              "      <td>-0.990360</td>\n",
              "      <td>-1.266513</td>\n",
              "      <td>-1.047464</td>\n",
              "      <td>-0.906017</td>\n",
              "      <td>0.621803</td>\n",
              "    </tr>\n",
              "    <tr>\n",
              "      <th>534600</th>\n",
              "      <td>-0.628495</td>\n",
              "      <td>0.491711</td>\n",
              "      <td>-0.679813</td>\n",
              "      <td>-0.171480</td>\n",
              "      <td>-0.379609</td>\n",
              "      <td>-0.666399</td>\n",
              "      <td>-0.181846</td>\n",
              "      <td>-0.373532</td>\n",
              "      <td>0.006009</td>\n",
              "      <td>-0.049676</td>\n",
              "      <td>...</td>\n",
              "      <td>0.025501</td>\n",
              "      <td>0.001756</td>\n",
              "      <td>1.439027</td>\n",
              "      <td>-0.833537</td>\n",
              "      <td>0.025650</td>\n",
              "      <td>-0.120129</td>\n",
              "      <td>-1.109493</td>\n",
              "      <td>-0.221439</td>\n",
              "      <td>-0.874713</td>\n",
              "      <td>-0.240982</td>\n",
              "    </tr>\n",
              "  </tbody>\n",
              "</table>\n",
              "<p>534601 rows × 53 columns</p>\n",
              "</div>"
            ],
            "text/plain": [
              "        timestamp  handTemperature  handAcc16_1  handAcc16_2  handAcc16_3  \\\n",
              "0       -1.077886         1.383760     0.757231     0.584776     0.510664   \n",
              "1        1.655200        -1.542161     0.051790     0.072016     1.098267   \n",
              "2       -0.875290         1.098304     0.344312    -1.781430    -0.864405   \n",
              "3        0.971193        -0.293292    -1.252472     0.362269    -0.831548   \n",
              "4       -0.926540         0.598757     0.627159     0.752136     0.083334   \n",
              "...           ...              ...          ...          ...          ...   \n",
              "534596   1.516186         0.812849    -0.659715     0.202325    -0.310987   \n",
              "534597   0.687313         1.044781    -0.466995     0.037284    -0.400220   \n",
              "534598   0.712516         1.276714    -0.274276    -0.127756    -0.489454   \n",
              "534599   1.482655        -2.505574     1.404064     0.997765    -3.439181   \n",
              "534600  -0.628495         0.491711    -0.679813    -0.171480    -0.379609   \n",
              "\n",
              "        handAcc6_1  handAcc6_2  handAcc6_3  handGyro1  handGyro2  ...  \\\n",
              "0         0.762694    0.616920    0.534955  -0.011434  -0.026646  ...   \n",
              "1        -0.226447    0.000586    0.693620   0.107743  -0.437495  ...   \n",
              "2         0.364464   -1.869295   -0.835905   0.024908   0.014511  ...   \n",
              "3        -1.309192    0.393529   -0.897058   1.489085  -0.085672  ...   \n",
              "4         0.640523    0.780732    0.146643   0.001532  -0.039074  ...   \n",
              "...            ...         ...         ...        ...        ...  ...   \n",
              "534596   -0.753307    0.519869   -0.075309  -0.128408   0.805766  ...   \n",
              "534597   -0.517513    0.195118   -0.254573   0.028656   0.193082  ...   \n",
              "534598   -0.281719   -0.129634   -0.433837   0.185719  -0.419602  ...   \n",
              "534599    1.803451    0.371647   -2.727570   3.067928   2.949408  ...   \n",
              "534600   -0.666399   -0.181846   -0.373532   0.006009  -0.049676  ...   \n",
              "\n",
              "        ankleGyro2  ankleGyro3  ankleMagne1  ankleMagne2  ankleMagne3  \\\n",
              "0         0.010026    0.013753     0.737136     1.134555    -1.145553   \n",
              "1        -1.032808    0.877262    -0.210992    -0.804863    -0.896624   \n",
              "2         0.035695   -0.004352     0.515551     0.638528     0.590981   \n",
              "3        -0.213025   -1.720091     0.104544     1.450536     0.369273   \n",
              "4         0.005874   -0.002954     0.569350    -0.275132    -0.208420   \n",
              "...            ...         ...          ...          ...          ...   \n",
              "534596    0.738288   -0.422473     0.194368    -1.155074     0.497191   \n",
              "534597   -2.808538   -1.501461    -0.360189     1.335589     0.094996   \n",
              "534598   -0.003788   -0.198810    -1.085757     0.831770    -0.874481   \n",
              "534599    0.621058   -2.744020    -0.279940    -0.593700     1.398596   \n",
              "534600    0.025501    0.001756     1.439027    -0.833537     0.025650   \n",
              "\n",
              "        ankleOrientation1  ankleOrientation2  ankleOrientation3  \\\n",
              "0               -0.510941           0.786246           1.336797   \n",
              "1                0.725106          -0.851330           0.297695   \n",
              "2               -0.732416           1.373972           0.262530   \n",
              "3                0.186609           1.565125           0.008559   \n",
              "4               -0.628202          -1.176374          -0.146954   \n",
              "...                   ...                ...                ...   \n",
              "534596          -0.139528          -1.093288           0.733590   \n",
              "534597           0.251696           1.345437           0.198171   \n",
              "534598           0.669670           0.696299           1.318086   \n",
              "534599          -0.990360          -1.266513          -1.047464   \n",
              "534600          -0.120129          -1.109493          -0.221439   \n",
              "\n",
              "        ankleOrientation4  subject_id  \n",
              "0               -0.708140    0.190410  \n",
              "1               -0.536677   -1.103768  \n",
              "2                1.674988    1.484589  \n",
              "3                1.114097   -1.103768  \n",
              "4               -0.890970    0.621803  \n",
              "...                   ...         ...  \n",
              "534596          -0.296111    0.190410  \n",
              "534597           1.414949    0.190410  \n",
              "534598           0.699344    0.190410  \n",
              "534599          -0.906017    0.621803  \n",
              "534600          -0.874713   -0.240982  \n",
              "\n",
              "[534601 rows x 53 columns]"
            ]
          },
          "execution_count": 13,
          "metadata": {},
          "output_type": "execute_result"
        }
      ],
      "source": [
        "# Используем стандартизацию (меняется форма распределения, в отличии от нормализации\n",
        "# Для PCА лучше работает стандартизация\n",
        "\n",
        "from sklearn.preprocessing import StandardScaler\n",
        "\n",
        "\n",
        "df_std = StandardScaler().fit_transform(df)\n",
        "scaled_df = pd.DataFrame(df_std, index=df.index, columns=df.columns)\n",
        "scaled_df"
      ]
    },
    {
      "cell_type": "markdown",
      "metadata": {},
      "source": [
        "## Уменьшаем размерность"
      ]
    },
    {
      "cell_type": "code",
      "execution_count": 14,
      "metadata": {},
      "outputs": [
        {
          "name": "stdout",
          "output_type": "stream",
          "text": [
            "(534601, 33)\n",
            "Explained variation per principal component: [0.17851572 0.07662817 0.0617213  0.05637949 0.0529433  0.04634389\n",
            " 0.0426382  0.03814318 0.0368918  0.03317978 0.02938425 0.02521645\n",
            " 0.0230405  0.02270655 0.02125344 0.01991816 0.01796683 0.01718571\n",
            " 0.01498313 0.01394952 0.01344563 0.01314069 0.01230648 0.0114162\n",
            " 0.0105073  0.01020446 0.00923591 0.00862    0.0080743  0.00784621\n",
            " 0.00682303 0.00654918 0.00633049]\n",
            "0.9534892549019941\n"
          ]
        }
      ],
      "source": [
        "# PCA Находит проекцию данных на новое пространство меньшей размерности\n",
        "# Введем процент сохраненной информации\n",
        "\n",
        "from sklearn.decomposition import PCA\n",
        "\n",
        "\n",
        "pca = PCA(0.95) # Можно задать n_components\n",
        "\n",
        "principalComponents = pca.fit_transform(scaled_df)\n",
        "\n",
        "principalDf = pd.DataFrame(data = principalComponents)\n",
        "print(principalDf.shape)\n",
        "print('Explained variation per principal component: {}'.format(pca.explained_variance_ratio_)) # Дисперсии\n",
        "print(pca.explained_variance_ratio_.sum())"
      ]
    },
    {
      "cell_type": "markdown",
      "metadata": {
        "id": "uNhPCUURCMeA"
      },
      "source": [
        "## Кластеризация"
      ]
    },
    {
      "cell_type": "markdown",
      "metadata": {
        "id": "q5mmv6vowE3W"
      },
      "source": [
        "### Метод локтя"
      ]
    },
    {
      "cell_type": "code",
      "execution_count": 15,
      "metadata": {
        "colab": {
          "base_uri": "https://localhost:8080/"
        },
        "id": "iSrlZHwLCdn5",
        "outputId": "62064bf6-fdb8-4998-caf9-7a006f80e6a5"
      },
      "outputs": [
        {
          "name": "stderr",
          "output_type": "stream",
          "text": [
            "d:\\WorkData\\SusuRepos\\workshop-projects\\.venv\\lib\\site-packages\\sklearn\\cluster\\_kmeans.py:1416: FutureWarning: The default value of `n_init` will change from 10 to 'auto' in 1.4. Set the value of `n_init` explicitly to suppress the warning\n",
            "  super()._check_params_vs_input(X, default_n_init=10)\n",
            "d:\\WorkData\\SusuRepos\\workshop-projects\\.venv\\lib\\site-packages\\sklearn\\cluster\\_kmeans.py:1416: FutureWarning: The default value of `n_init` will change from 10 to 'auto' in 1.4. Set the value of `n_init` explicitly to suppress the warning\n",
            "  super()._check_params_vs_input(X, default_n_init=10)\n",
            "d:\\WorkData\\SusuRepos\\workshop-projects\\.venv\\lib\\site-packages\\sklearn\\cluster\\_kmeans.py:1416: FutureWarning: The default value of `n_init` will change from 10 to 'auto' in 1.4. Set the value of `n_init` explicitly to suppress the warning\n",
            "  super()._check_params_vs_input(X, default_n_init=10)\n",
            "d:\\WorkData\\SusuRepos\\workshop-projects\\.venv\\lib\\site-packages\\sklearn\\cluster\\_kmeans.py:1416: FutureWarning: The default value of `n_init` will change from 10 to 'auto' in 1.4. Set the value of `n_init` explicitly to suppress the warning\n",
            "  super()._check_params_vs_input(X, default_n_init=10)\n",
            "d:\\WorkData\\SusuRepos\\workshop-projects\\.venv\\lib\\site-packages\\sklearn\\cluster\\_kmeans.py:1416: FutureWarning: The default value of `n_init` will change from 10 to 'auto' in 1.4. Set the value of `n_init` explicitly to suppress the warning\n",
            "  super()._check_params_vs_input(X, default_n_init=10)\n",
            "d:\\WorkData\\SusuRepos\\workshop-projects\\.venv\\lib\\site-packages\\sklearn\\cluster\\_kmeans.py:1416: FutureWarning: The default value of `n_init` will change from 10 to 'auto' in 1.4. Set the value of `n_init` explicitly to suppress the warning\n",
            "  super()._check_params_vs_input(X, default_n_init=10)\n",
            "d:\\WorkData\\SusuRepos\\workshop-projects\\.venv\\lib\\site-packages\\sklearn\\cluster\\_kmeans.py:1416: FutureWarning: The default value of `n_init` will change from 10 to 'auto' in 1.4. Set the value of `n_init` explicitly to suppress the warning\n",
            "  super()._check_params_vs_input(X, default_n_init=10)\n",
            "d:\\WorkData\\SusuRepos\\workshop-projects\\.venv\\lib\\site-packages\\sklearn\\cluster\\_kmeans.py:1416: FutureWarning: The default value of `n_init` will change from 10 to 'auto' in 1.4. Set the value of `n_init` explicitly to suppress the warning\n",
            "  super()._check_params_vs_input(X, default_n_init=10)\n",
            "d:\\WorkData\\SusuRepos\\workshop-projects\\.venv\\lib\\site-packages\\sklearn\\cluster\\_kmeans.py:1416: FutureWarning: The default value of `n_init` will change from 10 to 'auto' in 1.4. Set the value of `n_init` explicitly to suppress the warning\n",
            "  super()._check_params_vs_input(X, default_n_init=10)\n",
            "d:\\WorkData\\SusuRepos\\workshop-projects\\.venv\\lib\\site-packages\\sklearn\\cluster\\_kmeans.py:1416: FutureWarning: The default value of `n_init` will change from 10 to 'auto' in 1.4. Set the value of `n_init` explicitly to suppress the warning\n",
            "  super()._check_params_vs_input(X, default_n_init=10)\n"
          ]
        },
        {
          "name": "stdout",
          "output_type": "stream",
          "text": [
            "CPU times: total: 5min 52s\n",
            "Wall time: 35.5 s\n"
          ]
        },
        {
          "data": {
            "text/plain": [
              "<Axes: >"
            ]
          },
          "execution_count": 15,
          "metadata": {},
          "output_type": "execute_result"
        },
        {
          "data": {
            "image/png": "[encoded data removed]",
            "text/plain": [
              "<Figure size 640x480 with 1 Axes>"
            ]
          },
          "metadata": {},
          "output_type": "display_data"
        }
      ],
      "source": [
        "%%time\n",
        "from sklearn.cluster import KMeans\n",
        "\n",
        "\n",
        "inertia_df = pd.DataFrame(data=[], index=range(2, 12), columns=['inertia'])\n",
        "\n",
        "for n_clusters in range(2, 12):\n",
        "    clusterer = KMeans(n_clusters=n_clusters)\n",
        "    cluster_labels = clusterer.fit_predict(principalDf)\n",
        "\n",
        "    # inertia\n",
        "    inertia_df.loc[n_clusters] = clusterer.inertia_\n",
        "\n",
        "inertia_df.plot()"
      ]
    },
    {
      "cell_type": "code",
      "execution_count": 17,
      "metadata": {},
      "outputs": [
        {
          "name": "stderr",
          "output_type": "stream",
          "text": [
            "d:\\WorkData\\SusuRepos\\workshop-projects\\.venv\\lib\\site-packages\\sklearn\\cluster\\_kmeans.py:1416: FutureWarning: The default value of `n_init` will change from 10 to 'auto' in 1.4. Set the value of `n_init` explicitly to suppress the warning\n",
            "  super()._check_params_vs_input(X, default_n_init=10)\n",
            "d:\\WorkData\\SusuRepos\\workshop-projects\\.venv\\lib\\site-packages\\sklearn\\utils\\validation.py:1183: DataConversionWarning: A column-vector y was passed when a 1d array was expected. Please change the shape of y to (n_samples, ), for example using ravel().\n",
            "  y = column_or_1d(y, warn=True)\n"
          ]
        },
        {
          "name": "stdout",
          "output_type": "stream",
          "text": [
            "For n_clusters = 5 , the silhouette is : 0.14180693323411855\n"
          ]
        }
      ],
      "source": [
        "from sklearn.metrics import silhouette_score\n",
        "\n",
        "n_clusters = 5\n",
        "clusterer = KMeans(n_clusters=n_clusters)\n",
        "cluster_labels = clusterer.fit_predict(principalDf)\n",
        "\n",
        "df_with_labels = principalDf.copy()\n",
        "df_with_labels[\"labels\"] = cluster_labels\n",
        "sample_df_with_labels = df_with_labels.sample(frac=0.1, random_state=42)\n",
        "silhouette_avg = silhouette_score(sample_df_with_labels.iloc[:, :-1], sample_df_with_labels.iloc[:, -1:])\n",
        "\n",
        "print(\"For n_clusters =\", n_clusters, \", the silhouette is :\", silhouette_avg)"
      ]
    },
    {
      "cell_type": "code",
      "execution_count": 18,
      "metadata": {},
      "outputs": [
        {
          "data": {
            "text/plain": [
              "19104958.226119414"
            ]
          },
          "execution_count": 18,
          "metadata": {},
          "output_type": "execute_result"
        }
      ],
      "source": [
        "inertia = clusterer.inertia_\n",
        "inertia"
      ]
    },
    {
      "cell_type": "code",
      "execution_count": 19,
      "metadata": {
        "colab": {
          "base_uri": "https://localhost:8080/"
        },
        "id": "LtpEQRJgEDao",
        "outputId": "808e227e-435d-4aa9-dd72-2cde9dff9510"
      },
      "outputs": [
        {
          "data": {
            "text/plain": [
              "array([2, 0, 1, ..., 1, 4, 0])"
            ]
          },
          "execution_count": 19,
          "metadata": {},
          "output_type": "execute_result"
        }
      ],
      "source": [
        "cluster_labels"
      ]
    },
    {
      "cell_type": "markdown",
      "metadata": {
        "id": "td4SJ8px1JXc"
      },
      "source": [
        "## Подготовка ответов"
      ]
    },
    {
      "cell_type": "code",
      "execution_count": 20,
      "metadata": {
        "colab": {
          "base_uri": "https://localhost:8080/",
          "height": 424
        },
        "id": "OSO0rvFXD7vQ",
        "outputId": "6f07cbd5-5977-476b-fb3a-65e7f4dcded3"
      },
      "outputs": [
        {
          "data": {
            "text/html": [
              "<div>\n",
              "<style scoped>\n",
              "    .dataframe tbody tr th:only-of-type {\n",
              "        vertical-align: middle;\n",
              "    }\n",
              "\n",
              "    .dataframe tbody tr th {\n",
              "        vertical-align: top;\n",
              "    }\n",
              "\n",
              "    .dataframe thead th {\n",
              "        text-align: right;\n",
              "    }\n",
              "</style>\n",
              "<table border=\"1\" class=\"dataframe\">\n",
              "  <thead>\n",
              "    <tr style=\"text-align: right;\">\n",
              "      <th></th>\n",
              "      <th>index</th>\n",
              "      <th>activityID</th>\n",
              "    </tr>\n",
              "  </thead>\n",
              "  <tbody>\n",
              "    <tr>\n",
              "      <th>0</th>\n",
              "      <td>0</td>\n",
              "      <td>2</td>\n",
              "    </tr>\n",
              "    <tr>\n",
              "      <th>1</th>\n",
              "      <td>1</td>\n",
              "      <td>0</td>\n",
              "    </tr>\n",
              "    <tr>\n",
              "      <th>2</th>\n",
              "      <td>2</td>\n",
              "      <td>1</td>\n",
              "    </tr>\n",
              "    <tr>\n",
              "      <th>3</th>\n",
              "      <td>3</td>\n",
              "      <td>1</td>\n",
              "    </tr>\n",
              "    <tr>\n",
              "      <th>4</th>\n",
              "      <td>4</td>\n",
              "      <td>3</td>\n",
              "    </tr>\n",
              "    <tr>\n",
              "      <th>...</th>\n",
              "      <td>...</td>\n",
              "      <td>...</td>\n",
              "    </tr>\n",
              "    <tr>\n",
              "      <th>534596</th>\n",
              "      <td>534596</td>\n",
              "      <td>0</td>\n",
              "    </tr>\n",
              "    <tr>\n",
              "      <th>534597</th>\n",
              "      <td>534597</td>\n",
              "      <td>1</td>\n",
              "    </tr>\n",
              "    <tr>\n",
              "      <th>534598</th>\n",
              "      <td>534598</td>\n",
              "      <td>1</td>\n",
              "    </tr>\n",
              "    <tr>\n",
              "      <th>534599</th>\n",
              "      <td>534599</td>\n",
              "      <td>4</td>\n",
              "    </tr>\n",
              "    <tr>\n",
              "      <th>534600</th>\n",
              "      <td>534600</td>\n",
              "      <td>0</td>\n",
              "    </tr>\n",
              "  </tbody>\n",
              "</table>\n",
              "<p>534601 rows × 2 columns</p>\n",
              "</div>"
            ],
            "text/plain": [
              "         index  activityID\n",
              "0            0           2\n",
              "1            1           0\n",
              "2            2           1\n",
              "3            3           1\n",
              "4            4           3\n",
              "...        ...         ...\n",
              "534596  534596           0\n",
              "534597  534597           1\n",
              "534598  534598           1\n",
              "534599  534599           4\n",
              "534600  534600           0\n",
              "\n",
              "[534601 rows x 2 columns]"
            ]
          },
          "execution_count": 20,
          "metadata": {},
          "output_type": "execute_result"
        }
      ],
      "source": [
        "predictions = pd.DataFrame(cluster_labels, columns=['activityID'])\n",
        "predictions = predictions.reset_index()\n",
        "predictions"
      ]
    },
    {
      "cell_type": "code",
      "execution_count": 21,
      "metadata": {},
      "outputs": [
        {
          "data": {
            "text/plain": [
              "0         1\n",
              "1         2\n",
              "2         3\n",
              "3         3\n",
              "4         4\n",
              "         ..\n",
              "534596    2\n",
              "534597    3\n",
              "534598    3\n",
              "534599    5\n",
              "534600    2\n",
              "Name: activityID, Length: 534601, dtype: int64"
            ]
          },
          "execution_count": 21,
          "metadata": {},
          "output_type": "execute_result"
        }
      ],
      "source": [
        "encoding_dict = {}\n",
        "\n",
        "for i, label in enumerate(predictions['activityID'].unique()):\n",
        "    encoding_dict[label] = i + 1\n",
        "\n",
        "\n",
        "def encode(label):\n",
        "    return encoding_dict[label]\n",
        "\n",
        "\n",
        "predictions = predictions['activityID'].apply(encode)\n",
        "predictions\n"
      ]
    },
    {
      "cell_type": "code",
      "execution_count": 22,
      "metadata": {},
      "outputs": [],
      "source": [
        "predictions.to_csv(\"predict.csv\", index=False)"
      ]
    }
  ],
  "metadata": {
    "colab": {
      "provenance": []
    },
    "kernelspec": {
      "display_name": "Python 3",
      "name": "python3"
    },
    "language_info": {
      "codemirror_mode": {
        "name": "ipython",
        "version": 3
      },
      "file_extension": ".py",
      "mimetype": "text/x-python",
      "name": "python",
      "nbconvert_exporter": "python",
      "pygments_lexer": "ipython3",
      "version": "3.10.8"
    }
  },
  "nbformat": 4,
  "nbformat_minor": 0
}
